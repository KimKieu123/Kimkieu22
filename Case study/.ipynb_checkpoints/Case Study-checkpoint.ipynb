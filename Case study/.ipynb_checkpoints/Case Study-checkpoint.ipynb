{
 "cells": [
  {
   "cell_type": "code",
   "execution_count": 2,
   "id": "b520574e",
   "metadata": {},
   "outputs": [
    {
     "data": {
      "text/plain": [
       "(None,\n",
       " {'ten': None,\n",
       "  'gioitinh': None,\n",
       "  'CCCD': None,\n",
       "  'SDT': None,\n",
       "  'ngay': None,\n",
       "  'thang': None,\n",
       "  'nam': None,\n",
       "  'diachi': None,\n",
       "  'loai': None})"
      ]
     },
     "execution_count": 2,
     "metadata": {},
     "output_type": "execute_result"
    }
   ],
   "source": [
    "import pandas as pd\n",
    "import PySimpleGUI as sg\n",
    "layout = [[sg.Text(\"Đăng ký thông tin thẻ thư viện TPHCM\", background_color = \"pink\", text_color = \"green\", justification = \"center\")],\n",
    "          [sg.Text(\"Họ và tên\", size = 20), sg.Input(key=\"ten\")],\n",
    "          [sg.Text(\"Giởi tính\", size = 20), sg.Combo([\"Nam\",\"Nữ\"], key = \"gioitinh\")],\n",
    "          [sg.Text(\"CCCD/CMND\", size = 20), sg.Input(key= \"CCCD\")],\n",
    "          [sg.Text(\"Số điện thoại\", size = 20), sg.Input(key= \"SDT\")],\n",
    "          [sg.Text(\"ngày đăng ký\", size = 20), sg.Input(key =\"ngay\",size = 5), sg.Input(key = \"thang\",size = 5), sg.Input(key = \"nam\",size = 5)], \n",
    "          [sg.Text(\"địa chỉ\", size = 20), sg.Multiline(key = \"diachi\", size = (45,5))],\n",
    "          [sg.Text(\"Chọn loại hình dịch vụ\", size = 20), sg.Combo([\"Thé doanh nhân\",\"Thẻ thông thường\"], key = \"loai\")],\n",
    "          [sg.Button(\"Lưu thông tin\", button_color=\"blue\"),sg.Button(\"Kiểm tra\", button_color=\"red\"),sg.Button(\"Thoát\", button_color=\"black\")]]\n",
    "\n",
    "windown = sg.Window(\"mẫu đăng ký\",layout)\n",
    "windown.read()"
   ]
  },
  {
   "cell_type": "code",
   "execution_count": null,
   "id": "4e7f9bfd",
   "metadata": {},
   "outputs": [],
   "source": []
  }
 ],
 "metadata": {
  "kernelspec": {
   "display_name": "Python 3 (ipykernel)",
   "language": "python",
   "name": "python3"
  },
  "language_info": {
   "codemirror_mode": {
    "name": "ipython",
    "version": 3
   },
   "file_extension": ".py",
   "mimetype": "text/x-python",
   "name": "python",
   "nbconvert_exporter": "python",
   "pygments_lexer": "ipython3",
   "version": "3.10.4"
  }
 },
 "nbformat": 4,
 "nbformat_minor": 5
}
