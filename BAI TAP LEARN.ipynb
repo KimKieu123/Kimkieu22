{
 "cells": [
  {
   "cell_type": "code",
   "execution_count": 1,
   "id": "9e68a1f4",
   "metadata": {},
   "outputs": [
    {
     "name": "stdout",
     "output_type": "stream",
     "text": [
      "nhập số tiền USD: 5\n",
      "nhập tỷ giá USD23000\n",
      "số tiền VND là:  115000.0\n"
     ]
    }
   ],
   "source": [
    "#BÀI TẬP CHUYỂN ĐỔI TIỀN TỆ.\n",
    "\n",
    "a = float(input(\"nhập số tiền USD: \"))\n",
    "b = float(input(\"nhập tỷ giá USD\"))\n",
    "print(\"số tiền VND là: \",a*b)"
   ]
  },
  {
   "cell_type": "code",
   "execution_count": null,
   "id": "aa72e1f3",
   "metadata": {},
   "outputs": [],
   "source": [
    "import turtle\n",
    "import random\n",
    " \n",
    "number = random.uniform(0, 3)\n",
    "intNumber = int(number)\n",
    " \n",
    "wn = turtle.Screen()\n",
    "wn.bgcolor(\"black\")\n",
    "wn.title(\"Circle\")\n",
    " \n",
    "ball = turtle.Turtle()\n",
    "ball.shape('circle')\n",
    " \n",
    "if intNumber < 1:\n",
    "    ball.color('green')\n",
    "elif intNumber < 2:\n",
    "    ball.color('yellow')\n",
    "elif intNumber < 3:\n",
    "    ball.color('red')\n",
    "turtle.done()"
   ]
  },
  {
   "cell_type": "code",
   "execution_count": 2,
   "id": "1a0103b8",
   "metadata": {},
   "outputs": [
    {
     "name": "stdout",
     "output_type": "stream",
     "text": [
      "nhập vào số: 2\n",
      "a là số chẵn\n"
     ]
    }
   ],
   "source": [
    "#BÀI TẬP TOÁN TỬ BA NGÔI\n",
    "\n",
    "a = float(input(\"nhập vào số: \"))\n",
    "if a%2 == 0:\n",
    "    print(\"a là số chẵn\")\n",
    "else:\n",
    "    print(\"a là số lẻ\")"
   ]
  },
  {
   "cell_type": "code",
   "execution_count": 7,
   "id": "f24ccb3e",
   "metadata": {},
   "outputs": [
    {
     "name": "stdout",
     "output_type": "stream",
     "text": [
      "nhập vào số: 3\n",
      "a là số lẻ\n"
     ]
    }
   ],
   "source": [
    "#[Bài tập] Kiểm tra số chẵn/lẻ\n",
    "\n",
    "a = float(input(\"nhập vào số: \"))\n",
    "if a%2 == 0:\n",
    "    print(\"a là số chẵn\")\n",
    "elif a%2 == 1:\n",
    "    print(\"a là số lẻ\")\n",
    "else:\n",
    "    print(\"a không phải là số tự nhiên\")"
   ]
  },
  {
   "cell_type": "code",
   "execution_count": 9,
   "id": "d5c394a9",
   "metadata": {},
   "outputs": [
    {
     "name": "stdout",
     "output_type": "stream",
     "text": [
      "nhập từ 1 đến 7: 2\n",
      "thứ 3\n"
     ]
    }
   ],
   "source": [
    "#[Bài tập] Hiển thị ngày trong tuần\n",
    "\n",
    "a = int(input(\"nhập từ 1 đến 7: \"))\n",
    "if a == 1:\n",
    "    print(\"thứ 2\")\n",
    "elif a == 2:\n",
    "    print(\"thứ 3\")\n",
    "elif a == 3:\n",
    "    print(\"thứ 4\")\n",
    "elif a == 4:\n",
    "    print(\"thứ 5\")\n",
    "elif a == 5:\n",
    "    print(\"thứ 6\")\n",
    "elif a == 6:\n",
    "    print(\"thứ 7\")\n",
    "elif a == 7:\n",
    "    print(\"chủ nhật\")\n",
    "else:\n",
    "    print(\"bạn đã nhập sai\")\n"
   ]
  },
  {
   "cell_type": "code",
   "execution_count": 13,
   "id": "5d89d5aa",
   "metadata": {},
   "outputs": [
    {
     "name": "stdout",
     "output_type": "stream",
     "text": [
      "nhập vào số tiền200\n",
      "số tiền thanh toán là  150\n"
     ]
    }
   ],
   "source": [
    "#[Bài tập] Hiển thị thông tin đơn hàng\n",
    "\n",
    "a = int(input(\"nhập vào số tiền: \"))\n",
    "\n",
    "if a < 75:\n",
    "    print(\"số tiền thanh toán là \",a)\n",
    "elif a < 100:\n",
    "    print(\"số tiền thanh toán là \",a-15)\n",
    "elif a < 150:\n",
    "    print(\"số tiền thanh toán là \",a-25)\n",
    "else:\n",
    "    print(\"số tiền thanh toán là \",a-50)"
   ]
  },
  {
   "cell_type": "code",
   "execution_count": null,
   "id": "aac44401",
   "metadata": {},
   "outputs": [],
   "source": [
    "#[Bài tập] Tính chỉ số cân nặng của cơ thể (Python)\n",
    "w = float(input(\"nhập cân nặng kg\"))\n",
    "h = float(input('nhập chiều cao cm'))\n",
    "BMI = (w/((h/100)**2))\n",
    "if BMI > 40:\n",
    "    print(\"béo phì cấp độ III\")\n",
    "elif BMI >= 35:\n",
    "    print(\"béo phì cấp độ II\")\n",
    "elif BMI >= 30:\n",
    "    print(\"béo phì cấp độ I\")\n",
    "elif BMI >= 25:\n",
    "    print(\"thừa cân\")\n",
    "elif BMI >= 18.5:\n",
    "    print(\"bình thường\")\n",
    "elif BMI >= 17:\n",
    "    print(\"gày cấp độ I\")\n",
    "elif BMI >= 16:\n",
    "    print(\"gày cấp độ II\")\n",
    "else:\n",
    "    print(\"gày cấp độ III\")\n",
    "print(BMI)"
   ]
  },
  {
   "cell_type": "code",
   "execution_count": null,
   "id": "f6ed26bf",
   "metadata": {},
   "outputs": [
    {
     "name": "stdout",
     "output_type": "stream",
     "text": [
      "Nhập độ dài các cạnh của hình vuông: 10\n"
     ]
    }
   ],
   "source": [
    "import turtle\n",
    "a = int(input(\"Nhập độ dài các cạnh của hình vuông: \"))\n",
    "t = turtle.Turtle()\n",
    "t.hideturtle()\n",
    "t.pencolor(\"red\")\n",
    "edge = 0\n",
    "while edge < 4:\n",
    "    # Vẽ 1 cạnh của hình vuông\n",
    "    t.forward(a)\n",
    "    t.right(90)\n",
    "    # Câu lệnh này đặt trong vòng lặp while\n",
    "    # số lần lặp là 4, nên được hình vuông yêu cầu\n",
    "    edge += 1\n",
    "turtle.done()"
   ]
  },
  {
   "cell_type": "code",
   "execution_count": 1,
   "id": "54b0db26",
   "metadata": {},
   "outputs": [
    {
     "name": "stdout",
     "output_type": "stream",
     "text": [
      "nhập vào khoảng cách: 100\n"
     ]
    }
   ],
   "source": [
    "import turtle\n",
    "t = turtle.Turtle()\n",
    "d = int(input(\"nhập vào khoảng cách: \"))\n",
    "r = 30\n",
    "t.pu()\n",
    "t.lt(90)\n",
    "t.pd()\n",
    "while r < d:\n",
    "    t.circle(r,(360-180))\n",
    "    r = r + 10"
   ]
  },
  {
   "cell_type": "code",
   "execution_count": 1,
   "id": "9ec05498",
   "metadata": {},
   "outputs": [],
   "source": [
    "#[Bài tập] Vẽ hình theo mẫu\n",
    "\n",
    "import turtle\n",
    "t = turtle.Turtle()\n",
    "r = 100\n",
    "b = 0\n",
    "while b < 2:\n",
    "    t.circle(r,90)\n",
    "    t.circle(r/2,90)\n",
    "    b += 1"
   ]
  },
  {
   "cell_type": "code",
   "execution_count": 1,
   "id": "87b25d83",
   "metadata": {},
   "outputs": [],
   "source": [
    "import turtle\n",
    "\n",
    "turtle.bgcolor(\"black\")\n",
    "\n",
    "t = turtle.Turtle()\n",
    "\n",
    "t.speed(0)\n",
    "t.pensize(2)\n",
    "t.hideturtle()\n",
    "b = 0\n",
    "color = [\"green\", \"white\", \"yellow\", \"red\", \"magenta\", \"blue\", \"cyan\"]\n",
    "\n",
    "a = 36 # Số vòng tròn\n",
    "r = 100\n",
    "\n",
    "for i in range (a):\n",
    "    t.pencolor(color[i%7])\n",
    "    while b < 2:\n",
    "        t.circle(r,90)\n",
    "        t.circle(r/2,90)\n",
    "        b += 1\n",
    "    t.left(360/a)\n",
    "    b = 0"
   ]
  },
  {
   "cell_type": "code",
   "execution_count": null,
   "id": "6f953d80",
   "metadata": {},
   "outputs": [],
   "source": [
    "import turtle\n",
    "\n",
    "wn = turtle.Screen()\n",
    "wn.bgcolor(\"black\")\n",
    "wn.title(\"Star\")\n",
    "\n",
    "myPen = turtle.Turtle()\n",
    "myPen.color(\"#FF0000\")\n",
    "\n",
    "for j in range (1):\n",
    "    for i in range (1,6):\n",
    "        myPen.left(144)\n",
    "        myPen.forward(200)\n",
    "    myPen.left(5)\n",
    "\n",
    "turtle.done()"
   ]
  },
  {
   "cell_type": "code",
   "execution_count": null,
   "id": "5ea9060e",
   "metadata": {},
   "outputs": [],
   "source": [
    "char = input('Your char?: ')\n",
    "width = int(input('Width?: '))\n",
    "height = int(input('Height?: '))\n",
    "\n",
    "for i in range(1,height + 1):\n",
    "    print_str = ''\n",
    "    for j in range(1,width + 1):\n",
    "        if i == 1 or i == height:\n",
    "            print_str += char\n",
    "        else:\n",
    "            if j == 1 or j == width:\n",
    "                print_str += char\n",
    "            else:\n",
    "                print_str += ' '\n",
    "    print(print_str)"
   ]
  },
  {
   "cell_type": "code",
   "execution_count": null,
   "id": "f4dff17f",
   "metadata": {},
   "outputs": [],
   "source": [
    "#[Bài tập] Fizz Buzz (Python)\n",
    "a = int(input(\"nhập vào a: \"))\n",
    "b = int(input(\"nhập vào b: \"))\n",
    "if a >= b:\n",
    "    print(\"b phải > a, bạn nhập lại b nhé \")\n",
    "    b = int(input(\"nhập vào b: \"))\n",
    "else:\n",
    "    for i in range(a,b+1):\n",
    "        if i%3 == 0:\n",
    "            print(\"Fizz\")\n",
    "        elif i%5 == 0:\n",
    "            print(\"Buzz\")\n",
    "        elif i%3 ==0 and i%5 == 0:\n",
    "            print(\"FizzBuzz\")\n",
    "        \n",
    "            "
   ]
  }
 ],
 "metadata": {
  "kernelspec": {
   "display_name": "Python 3 (ipykernel)",
   "language": "python",
   "name": "python3"
  },
  "language_info": {
   "codemirror_mode": {
    "name": "ipython",
    "version": 3
   },
   "file_extension": ".py",
   "mimetype": "text/x-python",
   "name": "python",
   "nbconvert_exporter": "python",
   "pygments_lexer": "ipython3",
   "version": "3.10.4"
  }
 },
 "nbformat": 4,
 "nbformat_minor": 5
}
