{
 "cells": [
  {
   "cell_type": "code",
   "execution_count": 1,
   "id": "c0dbc9e0",
   "metadata": {},
   "outputs": [
    {
     "name": "stdout",
     "output_type": "stream",
     "text": [
      "nhập số tiền USD: 5\n",
      "nhập tỷ giá USD23000\n",
      "số tiền VND là:  115000.0\n"
     ]
    }
   ],
   "source": [
    "#BÀI TẬP CHUYỂN ĐỔI TIỀN TỆ.\n",
    "\n",
    "a = float(input(\"nhập số tiền USD: \"))\n",
    "b = float(input(\"nhập tỷ giá USD\"))\n",
    "print(\"số tiền VND là: \",a*b)"
   ]
  }
 ],
 "metadata": {
  "kernelspec": {
   "display_name": "Python 3 (ipykernel)",
   "language": "python",
   "name": "python3"
  },
  "language_info": {
   "codemirror_mode": {
    "name": "ipython",
    "version": 3
   },
   "file_extension": ".py",
   "mimetype": "text/x-python",
   "name": "python",
   "nbconvert_exporter": "python",
   "pygments_lexer": "ipython3",
   "version": "3.10.4"
  }
 },
 "nbformat": 4,
 "nbformat_minor": 5
}
