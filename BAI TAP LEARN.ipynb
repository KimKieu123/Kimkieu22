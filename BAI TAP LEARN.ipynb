{
 "cells": [
  {
   "cell_type": "code",
   "execution_count": 1,
   "id": "9e68a1f4",
   "metadata": {},
   "outputs": [
    {
     "name": "stdout",
     "output_type": "stream",
     "text": [
      "nhập số tiền USD: 5\n",
      "nhập tỷ giá USD23000\n",
      "số tiền VND là:  115000.0\n"
     ]
    }
   ],
   "source": [
    "#BÀI TẬP CHUYỂN ĐỔI TIỀN TỆ.\n",
    "\n",
    "a = float(input(\"nhập số tiền USD: \"))\n",
    "b = float(input(\"nhập tỷ giá USD\"))\n",
    "print(\"số tiền VND là: \",a*b)"
   ]
  },
  {
   "cell_type": "code",
   "execution_count": null,
   "id": "aa72e1f3",
   "metadata": {},
   "outputs": [],
   "source": [
    "import turtle\n",
    "import random\n",
    " \n",
    "number = random.uniform(0, 3)\n",
    "intNumber = int(number)\n",
    " \n",
    "wn = turtle.Screen()\n",
    "wn.bgcolor(\"black\")\n",
    "wn.title(\"Circle\")\n",
    " \n",
    "ball = turtle.Turtle()\n",
    "ball.shape('circle')\n",
    " \n",
    "if intNumber < 1:\n",
    "    ball.color('green')\n",
    "elif intNumber < 2:\n",
    "    ball.color('yellow')\n",
    "elif intNumber < 3:\n",
    "    ball.color('red')\n",
    "turtle.done()"
   ]
  },
  {
   "cell_type": "code",
   "execution_count": 2,
   "id": "1a0103b8",
   "metadata": {},
   "outputs": [
    {
     "name": "stdout",
     "output_type": "stream",
     "text": [
      "nhập vào số: 2\n",
      "a là số chẵn\n"
     ]
    }
   ],
   "source": [
    "#BÀI TẬP TOÁN TỬ BA NGÔI\n",
    "\n",
    "a = float(input(\"nhập vào số: \"))\n",
    "if a%2 == 0:\n",
    "    print(\"a là số chẵn\")\n",
    "else:\n",
    "    print(\"a là số lẻ\")"
   ]
  },
  {
   "cell_type": "code",
   "execution_count": 7,
   "id": "f24ccb3e",
   "metadata": {},
   "outputs": [
    {
     "name": "stdout",
     "output_type": "stream",
     "text": [
      "nhập vào số: 3\n",
      "a là số lẻ\n"
     ]
    }
   ],
   "source": [
    "#[Bài tập] Kiểm tra số chẵn/lẻ\n",
    "\n",
    "a = float(input(\"nhập vào số: \"))\n",
    "if a%2 == 0:\n",
    "    print(\"a là số chẵn\")\n",
    "elif a%2 == 1:\n",
    "    print(\"a là số lẻ\")\n",
    "else:\n",
    "    print(\"a không phải là số tự nhiên\")"
   ]
  },
  {
   "cell_type": "code",
   "execution_count": 9,
   "id": "d5c394a9",
   "metadata": {},
   "outputs": [
    {
     "name": "stdout",
     "output_type": "stream",
     "text": [
      "nhập từ 1 đến 7: 2\n",
      "thứ 3\n"
     ]
    }
   ],
   "source": [
    "#[Bài tập] Hiển thị ngày trong tuần\n",
    "\n",
    "a = int(input(\"nhập từ 1 đến 7: \"))\n",
    "if a == 1:\n",
    "    print(\"thứ 2\")\n",
    "elif a == 2:\n",
    "    print(\"thứ 3\")\n",
    "elif a == 3:\n",
    "    print(\"thứ 4\")\n",
    "elif a == 4:\n",
    "    print(\"thứ 5\")\n",
    "elif a == 5:\n",
    "    print(\"thứ 6\")\n",
    "elif a == 6:\n",
    "    print(\"thứ 7\")\n",
    "elif a == 7:\n",
    "    print(\"chủ nhật\")\n",
    "else:\n",
    "    print(\"bạn đã nhập sai\")\n"
   ]
  },
  {
   "cell_type": "code",
   "execution_count": 13,
   "id": "5d89d5aa",
   "metadata": {},
   "outputs": [
    {
     "name": "stdout",
     "output_type": "stream",
     "text": [
      "nhập vào số tiền200\n",
      "số tiền thanh toán là  150\n"
     ]
    }
   ],
   "source": [
    "#[Bài tập] Hiển thị thông tin đơn hàng\n",
    "\n",
    "a = int(input(\"nhập vào số tiền: \"))\n",
    "\n",
    "if a < 75:\n",
    "    print(\"số tiền thanh toán là \",a)\n",
    "elif a < 100:\n",
    "    print(\"số tiền thanh toán là \",a-15)\n",
    "elif a < 150:\n",
    "    print(\"số tiền thanh toán là \",a-25)\n",
    "else:\n",
    "    print(\"số tiền thanh toán là \",a-50)"
   ]
  },
  {
   "cell_type": "code",
   "execution_count": null,
   "id": "aac44401",
   "metadata": {},
   "outputs": [],
   "source": [
    "#[Bài tập] Tính chỉ số cân nặng của cơ thể (Python)\n",
    "w = float(input(\"nhập cân nặng kg\"))\n",
    "h = float(input('nhập chiều cao cm'))\n",
    "BMI = (w/((h/100)**2))\n",
    "if BMI > 40:\n",
    "    print(\"béo phì cấp độ III\")\n",
    "elif BMI >= 35:\n",
    "    print(\"béo phì cấp độ II\")\n",
    "elif BMI >= 30:\n",
    "    print(\"béo phì cấp độ I\")\n",
    "elif BMI >= 25:\n",
    "    print(\"thừa cân\")\n",
    "elif BMI >= 18.5:\n",
    "    print(\"bình thường\")\n",
    "elif BMI >= 17:\n",
    "    print(\"gày cấp độ I\")\n",
    "elif BMI >= 16:\n",
    "    print(\"gày cấp độ II\")\n",
    "else:\n",
    "    print(\"gày cấp độ III\")\n",
    "print(BMI)"
   ]
  },
  {
   "cell_type": "code",
   "execution_count": null,
   "id": "f6ed26bf",
   "metadata": {},
   "outputs": [
    {
     "name": "stdout",
     "output_type": "stream",
     "text": [
      "Nhập độ dài các cạnh của hình vuông: 10\n"
     ]
    }
   ],
   "source": [
    "import turtle\n",
    "a = int(input(\"Nhập độ dài các cạnh của hình vuông: \"))\n",
    "t = turtle.Turtle()\n",
    "t.hideturtle()\n",
    "t.pencolor(\"red\")\n",
    "edge = 0\n",
    "while edge < 4:\n",
    "    # Vẽ 1 cạnh của hình vuông\n",
    "    t.forward(a)\n",
    "    t.right(90)\n",
    "    # Câu lệnh này đặt trong vòng lặp while\n",
    "    # số lần lặp là 4, nên được hình vuông yêu cầu\n",
    "    edge += 1\n",
    "turtle.done()"
   ]
  },
  {
   "cell_type": "code",
   "execution_count": 1,
   "id": "54b0db26",
   "metadata": {},
   "outputs": [
    {
     "name": "stdout",
     "output_type": "stream",
     "text": [
      "nhập vào khoảng cách: 100\n"
     ]
    }
   ],
   "source": [
    "import turtle\n",
    "t = turtle.Turtle()\n",
    "d = int(input(\"nhập vào khoảng cách: \"))\n",
    "r = 30\n",
    "t.pu()\n",
    "t.lt(90)\n",
    "t.pd()\n",
    "while r < d:\n",
    "    t.circle(r,(360-180))\n",
    "    r = r + 10"
   ]
  },
  {
   "cell_type": "code",
   "execution_count": 1,
   "id": "9ec05498",
   "metadata": {},
   "outputs": [],
   "source": [
    "#[Bài tập] Vẽ hình theo mẫu\n",
    "\n",
    "import turtle\n",
    "t = turtle.Turtle()\n",
    "r = 100\n",
    "b = 0\n",
    "while b < 2:\n",
    "    t.circle(r,90)\n",
    "    t.circle(r/2,90)\n",
    "    b += 1"
   ]
  },
  {
   "cell_type": "code",
   "execution_count": 1,
   "id": "87b25d83",
   "metadata": {},
   "outputs": [],
   "source": [
    "import turtle\n",
    "\n",
    "turtle.bgcolor(\"black\")\n",
    "\n",
    "t = turtle.Turtle()\n",
    "\n",
    "t.speed(0)\n",
    "t.pensize(2)\n",
    "t.hideturtle()\n",
    "b = 0\n",
    "color = [\"green\", \"white\", \"yellow\", \"red\", \"magenta\", \"blue\", \"cyan\"]\n",
    "\n",
    "a = 36 # Số vòng tròn\n",
    "r = 100\n",
    "\n",
    "for i in range (a):\n",
    "    t.pencolor(color[i%7])\n",
    "    while b < 2:\n",
    "        t.circle(r,90)\n",
    "        t.circle(r/2,90)\n",
    "        b += 1\n",
    "    t.left(360/a)\n",
    "    b = 0"
   ]
  },
  {
   "cell_type": "code",
   "execution_count": null,
   "id": "6f953d80",
   "metadata": {},
   "outputs": [],
   "source": [
    "import turtle\n",
    "\n",
    "wn = turtle.Screen()\n",
    "wn.bgcolor(\"black\")\n",
    "wn.title(\"Star\")\n",
    "\n",
    "myPen = turtle.Turtle()\n",
    "myPen.color(\"#FF0000\")\n",
    "\n",
    "for j in range (1):\n",
    "    for i in range (1,6):\n",
    "        myPen.left(144)\n",
    "        myPen.forward(200)\n",
    "    myPen.left(5)\n",
    "\n",
    "turtle.done()"
   ]
  },
  {
   "cell_type": "code",
   "execution_count": null,
   "id": "5ea9060e",
   "metadata": {},
   "outputs": [],
   "source": [
    "char = input('Your char?: ')\n",
    "width = int(input('Width?: '))\n",
    "height = int(input('Height?: '))\n",
    "\n",
    "for i in range(1,height + 1):\n",
    "    print_str = ''\n",
    "    for j in range(1,width + 1):\n",
    "        if i == 1 or i == height:\n",
    "            print_str += char\n",
    "        else:\n",
    "            if j == 1 or j == width:\n",
    "                print_str += char\n",
    "            else:\n",
    "                print_str += ' '\n",
    "    print(print_str)"
   ]
  },
  {
   "cell_type": "code",
   "execution_count": 1,
   "id": "49750a31",
   "metadata": {},
   "outputs": [
    {
     "name": "stdout",
     "output_type": "stream",
     "text": [
      "nhập vào a: 3\n",
      "nhập vào b: 15\n",
      "Fizz\n",
      "4\n",
      "Buzz\n",
      "Fizz\n",
      "7\n",
      "8\n",
      "Fizz\n",
      "Buzz\n",
      "11\n",
      "Fizz\n",
      "13\n",
      "14\n",
      "Fizz\n"
     ]
    }
   ],
   "source": [
    "#[Bài tập] Fizz Buzz (Python)\n",
    "a = int(input(\"nhập vào a: \"))\n",
    "b = int(input(\"nhập vào b: \"))\n",
    "if a >= b:\n",
    "    print(\"b phải > a, bạn nhập lại b nhé \")\n",
    "    b = int(input(\"nhập vào b: \"))\n",
    "else:\n",
    "    for i in range(a,b+1):\n",
    "        if i%3 == 0:\n",
    "            print(\"Fizz\")\n",
    "        elif i%5 == 0:\n",
    "            print(\"Buzz\")\n",
    "        elif i%3 ==0 and i%5 == 0:\n",
    "            print(\"FizzBuzz\")\n",
    "        else:\n",
    "            print(i)\n",
    "            "
   ]
  },
  {
   "cell_type": "code",
   "execution_count": 2,
   "id": "98d6312f",
   "metadata": {},
   "outputs": [
    {
     "name": "stdout",
     "output_type": "stream",
     "text": [
      "0\n",
      "nhập vào 1 giá trị1\n",
      "1\n",
      "2\n",
      "nhập vào 1 giá trị2\n",
      "4\n",
      "7\n",
      "nhập vào 1 giá trị3\n",
      "10\n",
      "11\n",
      "nhập vào 1 giá trị4\n",
      "15\n",
      "16\n",
      "nhập vào 1 giá trị5\n",
      "21\n",
      "22 bạn đã thắng\n"
     ]
    }
   ],
   "source": [
    "import random\n",
    "playchoice = \"\"\n",
    "computerchoice = ''\n",
    "r = \"\"\n",
    "s = 0\n",
    "r = random.randint(0,1)\n",
    "while True:\n",
    "    if r == 0:\n",
    "        print(s)\n",
    "        playchoice = input(\"nhập vào 1 giá trị\")\n",
    "        s = s + int(playchoice)\n",
    "        if s > 21:\n",
    "            print(s,\"bạn đã thua\")\n",
    "            break\n",
    "        else:\n",
    "            r = 1\n",
    "    if r == 1:\n",
    "        print(s)\n",
    "        computerchoice = random.randint(1,3)\n",
    "        s = s + int(computerchoice)\n",
    "        if s > 21:\n",
    "            print(s,\"bạn đã thắng\")\n",
    "            break\n",
    "        else:\n",
    "            r = 0"
   ]
  },
  {
   "cell_type": "code",
   "execution_count": 2,
   "id": "242f2e6d",
   "metadata": {},
   "outputs": [
    {
     "name": "stdout",
     "output_type": "stream",
     "text": [
      "1 * 1  = 1\n",
      "1 * 2  = 2\n",
      "1 * 3  = 3\n",
      "1 * 4  = 4\n",
      "1 * 5  = 5\n",
      "1 * 6  = 6\n",
      "1 * 7  = 7\n",
      "1 * 8  = 8\n",
      "1 * 9  = 9\n",
      "1 * 10  = 10\n",
      "                     \n",
      "2 * 1  = 2\n",
      "2 * 2  = 4\n",
      "2 * 3  = 6\n",
      "2 * 4  = 8\n",
      "2 * 5  = 10\n",
      "2 * 6  = 12\n",
      "2 * 7  = 14\n",
      "2 * 8  = 16\n",
      "2 * 9  = 18\n",
      "2 * 10  = 20\n",
      "                     \n",
      "3 * 1  = 3\n",
      "3 * 2  = 6\n",
      "3 * 3  = 9\n",
      "3 * 4  = 12\n",
      "3 * 5  = 15\n",
      "3 * 6  = 18\n",
      "3 * 7  = 21\n",
      "3 * 8  = 24\n",
      "3 * 9  = 27\n",
      "3 * 10  = 30\n",
      "                     \n",
      "4 * 1  = 4\n",
      "4 * 2  = 8\n",
      "4 * 3  = 12\n",
      "4 * 4  = 16\n",
      "4 * 5  = 20\n",
      "4 * 6  = 24\n",
      "4 * 7  = 28\n",
      "4 * 8  = 32\n",
      "4 * 9  = 36\n",
      "4 * 10  = 40\n",
      "                     \n",
      "5 * 1  = 5\n",
      "5 * 2  = 10\n",
      "5 * 3  = 15\n",
      "5 * 4  = 20\n",
      "5 * 5  = 25\n",
      "5 * 6  = 30\n",
      "5 * 7  = 35\n",
      "5 * 8  = 40\n",
      "5 * 9  = 45\n",
      "5 * 10  = 50\n",
      "                     \n",
      "6 * 1  = 6\n",
      "6 * 2  = 12\n",
      "6 * 3  = 18\n",
      "6 * 4  = 24\n",
      "6 * 5  = 30\n",
      "6 * 6  = 36\n",
      "6 * 7  = 42\n",
      "6 * 8  = 48\n",
      "6 * 9  = 54\n",
      "6 * 10  = 60\n",
      "                     \n",
      "7 * 1  = 7\n",
      "7 * 2  = 14\n",
      "7 * 3  = 21\n",
      "7 * 4  = 28\n",
      "7 * 5  = 35\n",
      "7 * 6  = 42\n",
      "7 * 7  = 49\n",
      "7 * 8  = 56\n",
      "7 * 9  = 63\n",
      "7 * 10  = 70\n",
      "                     \n",
      "8 * 1  = 8\n",
      "8 * 2  = 16\n",
      "8 * 3  = 24\n",
      "8 * 4  = 32\n",
      "8 * 5  = 40\n",
      "8 * 6  = 48\n",
      "8 * 7  = 56\n",
      "8 * 8  = 64\n",
      "8 * 9  = 72\n",
      "8 * 10  = 80\n",
      "                     \n",
      "9 * 1  = 9\n",
      "9 * 2  = 18\n",
      "9 * 3  = 27\n",
      "9 * 4  = 36\n",
      "9 * 5  = 45\n",
      "9 * 6  = 54\n",
      "9 * 7  = 63\n",
      "9 * 8  = 72\n",
      "9 * 9  = 81\n",
      "9 * 10  = 90\n",
      "                     \n",
      "10 * 1  = 10\n",
      "10 * 2  = 20\n",
      "10 * 3  = 30\n",
      "10 * 4  = 40\n",
      "10 * 5  = 50\n",
      "10 * 6  = 60\n",
      "10 * 7  = 70\n",
      "10 * 8  = 80\n",
      "10 * 9  = 90\n",
      "10 * 10  = 100\n",
      "                     \n"
     ]
    }
   ],
   "source": [
    "#[Bài tập] Sinh bảng cửu chương (Python)\n",
    "\n",
    "for i in range(1,11):\n",
    "    for j in range(1,11):\n",
    "        print(i,\"*\",j,\" =\",i*j)\n",
    "    print(\"                     \")"
   ]
  },
  {
   "cell_type": "code",
   "execution_count": 1,
   "id": "4534e624",
   "metadata": {},
   "outputs": [],
   "source": [
    "#[Bài tập] Vẽ nhà sử dụng hàm\n",
    "import turtle\n",
    "t = turtle.Turtle()\n",
    "def vehinhchunhat(x,y,color1,color2):\n",
    "    t.color(color1,color2)\n",
    "    t.begin_fill()\n",
    "    for i in range(2):\n",
    "        t.fd(x)\n",
    "        t.lt(90)\n",
    "        t.fd(y)\n",
    "        t.lt(90)\n",
    "    t.end_fill()\n",
    "def vecuaso(a,b):\n",
    "    t.color(color1,\"green\")\n",
    "    t.begin_fill()\n",
    "    t.pu()\n",
    "    t.goto(x/3+a,y/3+b)\n",
    "    t.pd()\n",
    "    for i in range(2):\n",
    "        t.fd(x/3)\n",
    "        t.lt(90)\n",
    "        t.fd(y/3)\n",
    "        t.lt(90)\n",
    "    t.end_fill()\n",
    "def venha(a,b):\n",
    "    t.pu()\n",
    "    t.goto(a,b)\n",
    "    t.pd()\n",
    "    vehinhchunhat(x,y,color1,color2)\n",
    "    vecuaso(a,b)\n",
    "\n",
    "x = 50\n",
    "y = 100\n",
    "color1 = \"red\"\n",
    "color2 = \"yellow\"\n",
    "venha(0,0)\n",
    "venha(x,0)\n",
    "venha(0,y)\n",
    "venha(x,y)"
   ]
  },
  {
   "cell_type": "code",
   "execution_count": 2,
   "id": "8983d88c",
   "metadata": {},
   "outputs": [
    {
     "name": "stdout",
     "output_type": "stream",
     "text": [
      "Your expenses: []\n",
      "What do you want to do? -\n",
      "1. Add\n",
      "2. Remove\n",
      "Select option 1 or 2: 1\n",
      "Item name: milk\n",
      "Item cost: 500\n",
      "Date: 8/8\n",
      "Your expenses:  [{'name': 'milk', 'cost': 500, 'date': '8/8'}]\n"
     ]
    }
   ],
   "source": [
    "def add_item(myTempList, item):    \n",
    "    myTempList.append(item)\n",
    "def find_index_item(myTempList, item_name):\n",
    "    result = -1\n",
    "    length = len(myTempList)\n",
    "    for i in range(length):\n",
    "        if myTempList[i]['name'] == item_name:\n",
    "            result = i\n",
    "    return result\n",
    "def remove_item(myTempList, item_name):\n",
    "    if find_index_item(myTempList, item_name) > -1:\n",
    "        del myTempList[find_index_item(myTempList, item_name)]\n",
    "    else:\n",
    "        print(item_name + \" not in list\")\n",
    "expenses = []\n",
    "print(\"Your expenses:\", expenses)\n",
    "print(\"What do you want to do? -\\n\"\\\n",
    "        \"1. Add\\n\" \\\n",
    "        \"2. Remove\")\n",
    "option = int(input(\"Select option 1 or 2: \"))\n",
    "name_input = input(\"Item name: \")\n",
    "if option == 1:\n",
    "    cost_input = int(input(\"Item cost: \"))\n",
    "    date_input = input(\"Date: \")\n",
    "    item = {'name': name_input, 'cost':cost_input, 'date':date_input}\n",
    "    add_item(expenses, item)\n",
    "    print(\"Your expenses: \", expenses)\n",
    "elif option == 2:\n",
    "    remove_item(expenses, name_input)\n",
    "    print(\"Your expenses: \", expenses)\n",
    "else:\n",
    "    print(\"Invalid input\")"
   ]
  },
  {
   "cell_type": "code",
   "execution_count": 4,
   "id": "2f5cc248",
   "metadata": {},
   "outputs": [
    {
     "name": "stdout",
     "output_type": "stream",
     "text": [
      "nhập vào giá trị: xin chào\n",
      "số ký tự của chuổi là: 8\n"
     ]
    }
   ],
   "source": [
    "#[Bài tập] Đếm số ký tự trong chuỗi sử dụng hàm\n",
    "def dem(chuoi):\n",
    "    kq = 0\n",
    "    for i in chuoi:\n",
    "        kq += 1\n",
    "    return kq\n",
    "chuoi = input(\"nhập vào giá trị: \")\n",
    "print(\"số ký tự của chuổi là:\", dem(chuoi))"
   ]
  },
  {
   "cell_type": "code",
   "execution_count": 4,
   "id": "29ff1fb5",
   "metadata": {},
   "outputs": [
    {
     "name": "stdout",
     "output_type": "stream",
     "text": [
      "nhập vào a: 9\n",
      "nhập vào b: 10\n",
      "nhập vào c: 3\n",
      "3   9   10\n"
     ]
    }
   ],
   "source": [
    "#[Bài tập] Sắp xếp các số nguyên\n",
    "def sap_xep(a,b,c):\n",
    "\n",
    "    if a > b:\n",
    "        a,b = b,a\n",
    "    if a > c:\n",
    "        a,c = c,a\n",
    "    if b > c:\n",
    "        b,c = c,b\n",
    "    \n",
    "    print(a,\" \",b,\" \",c)\n",
    "a = int(input(\"nhập vào a: \"))\n",
    "b = int(input(\"nhập vào b: \"))\n",
    "c = int(input(\"nhập vào c: \"))\n",
    "sap_xep(a,b,c)"
   ]
  },
  {
   "cell_type": "code",
   "execution_count": 5,
   "id": "b0ee0465",
   "metadata": {},
   "outputs": [
    {
     "name": "stdout",
     "output_type": "stream",
     "text": [
      "số nhỏ nhất là  -2\n"
     ]
    }
   ],
   "source": [
    "#[Bài tập] Tìm giá trị nhỏ nhất trong danh sách\n",
    "def tim_min(list):\n",
    "    mi = list[0]\n",
    "    for i in list:\n",
    "        if i < mi:\n",
    "            mi = i\n",
    "    return mi\n",
    "list = [-1,4,5,6,7,9,-2,0]\n",
    "print(\"số nhỏ nhất là \",tim_min(list))"
   ]
  },
  {
   "cell_type": "code",
   "execution_count": null,
   "id": "7830e7d0",
   "metadata": {},
   "outputs": [
    {
     "name": "stdout",
     "output_type": "stream",
     "text": [
      "Rùa thắng cuộc là rùa màu ('blue', 'blue')\n",
      "Thời gian về đích là  0:00:05.624609\n"
     ]
    }
   ],
   "source": [
    "#[Bài tập] Cuộc đua của những chú rùa phần 2\n",
    "\n",
    "import turtle as t\n",
    "import random\n",
    "from datetime import datetime \n",
    "import time\n",
    "\n",
    "screen = t.Screen()\n",
    "screen.setup(height=500, width=600)\n",
    "pen = t.Turtle(visible=False)\n",
    "pen.penup()\n",
    "pen.speed(0)\n",
    "pen.goto(-250, 200)\n",
    "for i in range(21):\n",
    "    pen.write(i)\n",
    "    pen.forward(25)\n",
    "\n",
    "x = -250\n",
    "pen.goto(-250, 200)\n",
    "pen.right(90)\n",
    "for i in range(21):\n",
    "    for j in range(10):\n",
    "        pen.pendown()\n",
    "        pen.forward(20)\n",
    "        pen.penup()\n",
    "        pen.forward(10)\n",
    "    pen.penup()\n",
    "    pen.forward(5)\n",
    "    pen.write(i)\n",
    "    pen.goto(x + (i + 1) * 25, 200)\n",
    "\n",
    "all_turtles = []\n",
    "y_position = [160, 100, 40, -20]\n",
    "colors = ['red', 'green', 'blue', 'black']\n",
    "for turtle in range(0, 4):\n",
    "    turtles = t.Turtle(shape=\"turtle\")\n",
    "    turtles.penup()\n",
    "    turtles.goto(x=-250, y=y_position[turtle])\n",
    "    turtles.color(colors[turtle])\n",
    "    for i in range(5):\n",
    "        turtles.left(72)\n",
    "    all_turtles.append(turtles)\n",
    "\n",
    "def random_walk(turtles):  \n",
    "    global run\n",
    "    for turtle in turtles:\n",
    "        turtle.forward(random.randint(1, 10))\n",
    "        if turtle.xcor() > 250:\n",
    "            run = False\n",
    "            print(\"Rùa thắng cuộc là rùa màu\", turtle.color())\n",
    "            print(\"Thời gian về đích là \",(datetime.now()-now))\n",
    "run = True\n",
    "now = datetime.now()\n",
    "while run:\n",
    "    random_walk(all_turtles)\n",
    "screen.exitonclick()"
   ]
  }
 ],
 "metadata": {
  "kernelspec": {
   "display_name": "Python 3 (ipykernel)",
   "language": "python",
   "name": "python3"
  },
  "language_info": {
   "codemirror_mode": {
    "name": "ipython",
    "version": 3
   },
   "file_extension": ".py",
   "mimetype": "text/x-python",
   "name": "python",
   "nbconvert_exporter": "python",
   "pygments_lexer": "ipython3",
   "version": "3.10.4"
  }
 },
 "nbformat": 4,
 "nbformat_minor": 5
}
