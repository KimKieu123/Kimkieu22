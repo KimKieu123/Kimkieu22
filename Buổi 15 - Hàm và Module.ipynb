{
 "cells": [
  {
   "cell_type": "markdown",
   "id": "73456e5e",
   "metadata": {},
   "source": [
    "# Hàm\n",
    "\n",
    "### Hàm\n",
    "\n",
    "Cú pháp:\n",
    "\n",
    "`def <tên hàm>(<tham số)>:\n",
    "    //Nội dung hàm`\n",
    "\n",
    "Gọi hàm:\n",
    "`<tên hàm>(<giá trị đầu vào>)`\n",
    "\n",
    "Ví dụ:\n",
    "\n",
    "Hãy viết 1 hàm số để tính tổng 2 số đầu vào và in nó ra màn hình"
   ]
  },
  {
   "cell_type": "code",
   "execution_count": 2,
   "id": "af5b9f6d",
   "metadata": {},
   "outputs": [
    {
     "name": "stdout",
     "output_type": "stream",
     "text": [
      "hello\n",
      "hello\n"
     ]
    }
   ],
   "source": [
    "def demo(): #khi khởi tạo hàm thì các lệnh trong hàm chưa được thực hiện, khi chúng ta gọi nó ra thì nó mới được thực hiện\n",
    "    \n",
    "    print(\"hello\")\n",
    "#chương trình chính\n",
    "demo()\n",
    "demo()"
   ]
  },
  {
   "cell_type": "code",
   "execution_count": 4,
   "id": "2dd20d78",
   "metadata": {},
   "outputs": [
    {
     "name": "stdout",
     "output_type": "stream",
     "text": [
      "hello\n",
      "hi\n",
      "hello\n",
      "hi\n"
     ]
    }
   ],
   "source": [
    "#viết hàm in hello rồi in hi\n",
    "\n",
    "def demo():\n",
    "    print(\"hello\")\n",
    "    print(\"hi\")\n",
    "demo()\n",
    "demo()"
   ]
  },
  {
   "cell_type": "code",
   "execution_count": 5,
   "id": "0c47f7f4",
   "metadata": {},
   "outputs": [
    {
     "name": "stdout",
     "output_type": "stream",
     "text": [
      "7\n"
     ]
    }
   ],
   "source": [
    "b = -7\n",
    "a = abs(b) #abs là hàm trị tuyệt đối\n",
    "print(a)"
   ]
  },
  {
   "cell_type": "code",
   "execution_count": 8,
   "id": "deb7e415",
   "metadata": {},
   "outputs": [
    {
     "name": "stdout",
     "output_type": "stream",
     "text": [
      "49\n",
      "144\n"
     ]
    }
   ],
   "source": [
    "def mu2(a):\n",
    "    print(a**2)\n",
    "mu2(7)\n",
    "mu2(12)"
   ]
  },
  {
   "cell_type": "code",
   "execution_count": 18,
   "id": "57efccfc",
   "metadata": {},
   "outputs": [
    {
     "name": "stdout",
     "output_type": "stream",
     "text": [
      "8\n",
      "hihello\n"
     ]
    }
   ],
   "source": [
    "def tong(a,b):\n",
    "    print(a+b)\n",
    "tong(3,5)\n",
    "tong(\"hi\",\"hello\")"
   ]
  },
  {
   "cell_type": "code",
   "execution_count": 20,
   "id": "2a51b084",
   "metadata": {},
   "outputs": [
    {
     "name": "stdout",
     "output_type": "stream",
     "text": [
      "-3\n",
      "1.7142857142857142\n",
      "84\n"
     ]
    }
   ],
   "source": [
    "def hieu(a,b):\n",
    "    print(a-b)\n",
    "def thuong(a,b):\n",
    "    print(a/b)\n",
    "def tich(a,b):\n",
    "    print(a*b)\n",
    "hieu(2,5)\n",
    "thuong(12,7)\n",
    "tich(12,7)"
   ]
  },
  {
   "cell_type": "code",
   "execution_count": 15,
   "id": "71b38537",
   "metadata": {},
   "outputs": [
    {
     "name": "stdout",
     "output_type": "stream",
     "text": [
      "a + b = 5\n",
      "a - b = -1\n",
      "a / b = 0.6666666666666666\n",
      "a * b = 6\n"
     ]
    }
   ],
   "source": [
    "def P(a,b):\n",
    "    print('a + b','=',a+b)\n",
    "    print('a - b','=',a-b)\n",
    "    print('a / b','=',a/b)\n",
    "    print('a * b','=',a*b)\n",
    "P(2,3)"
   ]
  },
  {
   "cell_type": "code",
   "execution_count": 2,
   "id": "905a21d3",
   "metadata": {},
   "outputs": [
    {
     "name": "stdout",
     "output_type": "stream",
     "text": [
      "10\n"
     ]
    },
    {
     "ename": "NameError",
     "evalue": "name 'a' is not defined",
     "output_type": "error",
     "traceback": [
      "\u001b[1;31m---------------------------------------------------------------------------\u001b[0m",
      "\u001b[1;31mNameError\u001b[0m                                 Traceback (most recent call last)",
      "Input \u001b[1;32mIn [2]\u001b[0m, in \u001b[0;36m<cell line: 5>\u001b[1;34m()\u001b[0m\n\u001b[0;32m      3\u001b[0m     \u001b[38;5;28mprint\u001b[39m(a\u001b[38;5;241m+\u001b[39mb) \u001b[38;5;66;03m#a,b là biến local, cả a và b chỉ được sử dụng trong hàm này\u001b[39;00m\n\u001b[0;32m      4\u001b[0m biendoi(\u001b[38;5;241m3\u001b[39m,\u001b[38;5;241m7\u001b[39m)\n\u001b[1;32m----> 5\u001b[0m \u001b[38;5;28mprint\u001b[39m(\u001b[38;5;124m\"\u001b[39m\u001b[38;5;124min ngoài hàm: \u001b[39m\u001b[38;5;124m\"\u001b[39m,\u001b[43ma\u001b[49m,b)\n",
      "\u001b[1;31mNameError\u001b[0m: name 'a' is not defined"
     ]
    }
   ],
   "source": [
    "def biendoi(a,b):\n",
    "    a, b = b, a\n",
    "    print(a+b) #a,b là biến local, cả a và b chỉ được sử dụng trong hàm này\n",
    "biendoi(3,7)\n",
    "print(\"in ngoài hàm: \",a,b) # lệnh này ko thực hiện được do a, b là biến local như trên"
   ]
  },
  {
   "cell_type": "code",
   "execution_count": 3,
   "id": "6e78eac5",
   "metadata": {},
   "outputs": [
    {
     "name": "stdout",
     "output_type": "stream",
     "text": [
      "in trong hàm  6 5\n"
     ]
    }
   ],
   "source": [
    "def biendoi(a,b):\n",
    "    a, b = b, a\n",
    "    print(\"in trong hàm \",a,b)\n",
    "biendoi(5,6)"
   ]
  },
  {
   "cell_type": "code",
   "execution_count": 4,
   "id": "6c176e28",
   "metadata": {},
   "outputs": [
    {
     "name": "stdout",
     "output_type": "stream",
     "text": [
      "2\n"
     ]
    },
    {
     "ename": "NameError",
     "evalue": "name 'c' is not defined",
     "output_type": "error",
     "traceback": [
      "\u001b[1;31m---------------------------------------------------------------------------\u001b[0m",
      "\u001b[1;31mNameError\u001b[0m                                 Traceback (most recent call last)",
      "Input \u001b[1;32mIn [4]\u001b[0m, in \u001b[0;36m<cell line: 5>\u001b[1;34m()\u001b[0m\n\u001b[0;32m      3\u001b[0m     \u001b[38;5;28mprint\u001b[39m(c)\n\u001b[0;32m      4\u001b[0m biendoi(\u001b[38;5;241m2\u001b[39m,\u001b[38;5;241m7\u001b[39m)\n\u001b[1;32m----> 5\u001b[0m \u001b[38;5;28mprint\u001b[39m(\u001b[43mc\u001b[49m)\n",
      "\u001b[1;31mNameError\u001b[0m: name 'c' is not defined"
     ]
    }
   ],
   "source": [
    "def biendoi(a,b): #biến c được khai báo trong hàm nên biến c cũng là biến local\n",
    "    c = 2\n",
    "    print(c)\n",
    "biendoi(2,7)\n",
    "print(c) #lệnh này không thực hiện được"
   ]
  },
  {
   "cell_type": "code",
   "execution_count": 5,
   "id": "efa8d669",
   "metadata": {},
   "outputs": [
    {
     "name": "stdout",
     "output_type": "stream",
     "text": [
      "2\n",
      "7\n"
     ]
    }
   ],
   "source": [
    "def biendoi(a,b): \n",
    "    c = 2\n",
    "    print(c)\n",
    "c = 7 # c là biến ngoài hàm global nên sử dụng được ở cả trong hàm và ngoài hàm\n",
    "biendoi(2,7)\n",
    "print(c) "
   ]
  },
  {
   "cell_type": "code",
   "execution_count": 1,
   "id": "be7ed517",
   "metadata": {},
   "outputs": [
    {
     "name": "stdout",
     "output_type": "stream",
     "text": [
      "in trong hàm 7\n",
      "in ngoài hàm 7\n"
     ]
    }
   ],
   "source": [
    "def biendoi(a,b): \n",
    "    print(\"in trong hàm\",c) #in biến c global vì trong hàm ko có biên s c local\n",
    "c = 7\n",
    "biendoi(2,7)\n",
    "print(\"in ngoài hàm\",c)"
   ]
  },
  {
   "cell_type": "code",
   "execution_count": 1,
   "id": "b9619f75",
   "metadata": {},
   "outputs": [
    {
     "ename": "NameError",
     "evalue": "name 'c' is not defined",
     "output_type": "error",
     "traceback": [
      "\u001b[1;31m---------------------------------------------------------------------------\u001b[0m",
      "\u001b[1;31mNameError\u001b[0m                                 Traceback (most recent call last)",
      "Input \u001b[1;32mIn [1]\u001b[0m, in \u001b[0;36m<cell line: 4>\u001b[1;34m()\u001b[0m\n\u001b[0;32m      1\u001b[0m \u001b[38;5;28;01mdef\u001b[39;00m \u001b[38;5;21mbiendoi\u001b[39m(a,b): \n\u001b[0;32m      2\u001b[0m     \u001b[38;5;28mprint\u001b[39m(\u001b[38;5;124m\"\u001b[39m\u001b[38;5;124min trong hàm\u001b[39m\u001b[38;5;124m\"\u001b[39m,c) \u001b[38;5;66;03m#in biến c global vì trong hàm ko có biên s c local\u001b[39;00m\n\u001b[1;32m----> 4\u001b[0m \u001b[43mbiendoi\u001b[49m\u001b[43m(\u001b[49m\u001b[38;5;241;43m2\u001b[39;49m\u001b[43m,\u001b[49m\u001b[38;5;241;43m7\u001b[39;49m\u001b[43m)\u001b[49m\n\u001b[0;32m      5\u001b[0m c \u001b[38;5;241m=\u001b[39m \u001b[38;5;241m7\u001b[39m\n\u001b[0;32m      6\u001b[0m \u001b[38;5;28mprint\u001b[39m(\u001b[38;5;124m\"\u001b[39m\u001b[38;5;124min ngoài hàm\u001b[39m\u001b[38;5;124m\"\u001b[39m,c)\n",
      "Input \u001b[1;32mIn [1]\u001b[0m, in \u001b[0;36mbiendoi\u001b[1;34m(a, b)\u001b[0m\n\u001b[0;32m      1\u001b[0m \u001b[38;5;28;01mdef\u001b[39;00m \u001b[38;5;21mbiendoi\u001b[39m(a,b): \n\u001b[1;32m----> 2\u001b[0m     \u001b[38;5;28mprint\u001b[39m(\u001b[38;5;124m\"\u001b[39m\u001b[38;5;124min trong hàm\u001b[39m\u001b[38;5;124m\"\u001b[39m,\u001b[43mc\u001b[49m)\n",
      "\u001b[1;31mNameError\u001b[0m: name 'c' is not defined"
     ]
    }
   ],
   "source": [
    "def biendoi(a,b): \n",
    "    print(\"in trong hàm\",c) \n",
    "\n",
    "biendoi(2,7)\n",
    "c = 7 #lệnh kg thực hiện được do c được khai báo sau khi gọi hàm\n",
    "print(\"in ngoài hàm\",c)"
   ]
  },
  {
   "cell_type": "code",
   "execution_count": 2,
   "id": "07e5db25",
   "metadata": {},
   "outputs": [
    {
     "ename": "UnboundLocalError",
     "evalue": "local variable 'c' referenced before assignment",
     "output_type": "error",
     "traceback": [
      "\u001b[1;31m---------------------------------------------------------------------------\u001b[0m",
      "\u001b[1;31mUnboundLocalError\u001b[0m                         Traceback (most recent call last)",
      "Input \u001b[1;32mIn [2]\u001b[0m, in \u001b[0;36m<cell line: 5>\u001b[1;34m()\u001b[0m\n\u001b[0;32m      3\u001b[0m     c \u001b[38;5;241m=\u001b[39m \u001b[38;5;241m2\u001b[39m\n\u001b[0;32m      4\u001b[0m c \u001b[38;5;241m=\u001b[39m \u001b[38;5;241m7\u001b[39m \n\u001b[1;32m----> 5\u001b[0m \u001b[43mbiendoi\u001b[49m\u001b[43m(\u001b[49m\u001b[38;5;241;43m2\u001b[39;49m\u001b[43m,\u001b[49m\u001b[38;5;241;43m7\u001b[39;49m\u001b[43m)\u001b[49m\n\u001b[0;32m      7\u001b[0m \u001b[38;5;28mprint\u001b[39m(\u001b[38;5;124m\"\u001b[39m\u001b[38;5;124min ngoài hàm\u001b[39m\u001b[38;5;124m\"\u001b[39m,c)\n",
      "Input \u001b[1;32mIn [2]\u001b[0m, in \u001b[0;36mbiendoi\u001b[1;34m(a, b)\u001b[0m\n\u001b[0;32m      1\u001b[0m \u001b[38;5;28;01mdef\u001b[39;00m \u001b[38;5;21mbiendoi\u001b[39m(a,b): \n\u001b[1;32m----> 2\u001b[0m     \u001b[38;5;28mprint\u001b[39m(\u001b[38;5;124m\"\u001b[39m\u001b[38;5;124min trong hàm\u001b[39m\u001b[38;5;124m\"\u001b[39m,\u001b[43mc\u001b[49m)\n\u001b[0;32m      3\u001b[0m     c \u001b[38;5;241m=\u001b[39m \u001b[38;5;241m2\u001b[39m\n",
      "\u001b[1;31mUnboundLocalError\u001b[0m: local variable 'c' referenced before assignment"
     ]
    }
   ],
   "source": [
    "def biendoi(a,b): \n",
    "    print(\"in trong hàm\",c) #đặt c ở vị trí bất kỳ ở đâu cũng là c local vì trong lệnh có khai báo c dù cho lệnh chưa được thực hiên\n",
    "    c = 2\n",
    "c = 7 \n",
    "biendoi(2,7)\n",
    "\n",
    "print(\"in ngoài hàm\",c)"
   ]
  },
  {
   "cell_type": "code",
   "execution_count": 3,
   "id": "97573cb9",
   "metadata": {},
   "outputs": [
    {
     "ename": "UnboundLocalError",
     "evalue": "local variable 'c' referenced before assignment",
     "output_type": "error",
     "traceback": [
      "\u001b[1;31m---------------------------------------------------------------------------\u001b[0m",
      "\u001b[1;31mUnboundLocalError\u001b[0m                         Traceback (most recent call last)",
      "Input \u001b[1;32mIn [3]\u001b[0m, in \u001b[0;36m<cell line: 6>\u001b[1;34m()\u001b[0m\n\u001b[0;32m      4\u001b[0m     \u001b[38;5;28mprint\u001b[39m(\u001b[38;5;124m\"\u001b[39m\u001b[38;5;124min trong hàm \u001b[39m\u001b[38;5;124m\"\u001b[39m,c)\n\u001b[0;32m      5\u001b[0m c \u001b[38;5;241m=\u001b[39m \u001b[38;5;241m7\u001b[39m\n\u001b[1;32m----> 6\u001b[0m \u001b[43mbiendoi\u001b[49m\u001b[43m(\u001b[49m\u001b[38;5;241;43m2\u001b[39;49m\u001b[43m,\u001b[49m\u001b[38;5;241;43m7\u001b[39;49m\u001b[43m)\u001b[49m\n\u001b[0;32m      7\u001b[0m \u001b[38;5;28mprint\u001b[39m(\u001b[38;5;124m\"\u001b[39m\u001b[38;5;124min ngoài hàm \u001b[39m\u001b[38;5;124m\"\u001b[39m,c)\n",
      "Input \u001b[1;32mIn [3]\u001b[0m, in \u001b[0;36mbiendoi\u001b[1;34m(a, b)\u001b[0m\n\u001b[0;32m      2\u001b[0m \u001b[38;5;28;01mif\u001b[39;00m \u001b[38;5;28;01mFalse\u001b[39;00m:\n\u001b[0;32m      3\u001b[0m     c \u001b[38;5;241m=\u001b[39m \u001b[38;5;241m2\u001b[39m\n\u001b[1;32m----> 4\u001b[0m \u001b[38;5;28mprint\u001b[39m(\u001b[38;5;124m\"\u001b[39m\u001b[38;5;124min trong hàm \u001b[39m\u001b[38;5;124m\"\u001b[39m,\u001b[43mc\u001b[49m)\n",
      "\u001b[1;31mUnboundLocalError\u001b[0m: local variable 'c' referenced before assignment"
     ]
    }
   ],
   "source": [
    "def biendoi(a,b): \n",
    "    if False:\n",
    "        c = 2\n",
    "    print(\"in trong hàm \",c)\n",
    "c = 7\n",
    "biendoi(2,7)\n",
    "print(\"in ngoài hàm \",c)"
   ]
  },
  {
   "cell_type": "code",
   "execution_count": 6,
   "id": "c82a045f",
   "metadata": {},
   "outputs": [
    {
     "name": "stdout",
     "output_type": "stream",
     "text": [
      "2\n"
     ]
    }
   ],
   "source": [
    "def thaydoic():\n",
    "    global c #sẽ không thay báo 1 biến c mới khi ta thực hiện 1 lệnh gán\n",
    "    c = 2    #gán giá trị mới cho biến c global\n",
    "    \n",
    "c = 7\n",
    "thaydoic()\n",
    "print(c)"
   ]
  },
  {
   "cell_type": "code",
   "execution_count": 13,
   "id": "f940ee20",
   "metadata": {},
   "outputs": [
    {
     "name": "stdout",
     "output_type": "stream",
     "text": [
      "a 10\n",
      "b 10\n"
     ]
    }
   ],
   "source": [
    "def demo(a):\n",
    "     #a là biến local\n",
    "    print(\"a\",a)\n",
    "b = 10\n",
    "demo(b)\n",
    "print(\"b\",b)\n"
   ]
  },
  {
   "cell_type": "markdown",
   "id": "a7c39f47",
   "metadata": {},
   "source": [
    "### Giá trị trả về của hàm\n",
    "\n",
    "# return\n",
    "\n",
    "Cú pháp:\n",
    "\n",
    "`retrun <giá trị trả về>`\n",
    "\n",
    "##### Lưu ý: Sau khi thực hiện lệnh return, chương trình sẽ thoát khỏi hàm ngay lập tức (những lệnh sau đó không được thực hiện)\n",
    "\n",
    "Ví dụ:\n",
    "\n",
    "Hãy viết 1 hàm trả về giá trị trung bình của 2 số bất kỳ"
   ]
  },
  {
   "cell_type": "code",
   "execution_count": 14,
   "id": "0b527b95",
   "metadata": {},
   "outputs": [
    {
     "name": "stdout",
     "output_type": "stream",
     "text": [
      "hi\n",
      "7\n"
     ]
    }
   ],
   "source": [
    "print(\"hi\") # đây là hàm không có giá trị\n",
    "a = abs(7) #đây là hàm có giá trị\n",
    "print(a)\n"
   ]
  },
  {
   "cell_type": "code",
   "execution_count": 17,
   "id": "4e407e44",
   "metadata": {},
   "outputs": [
    {
     "name": "stdout",
     "output_type": "stream",
     "text": [
      "2\n"
     ]
    }
   ],
   "source": [
    "def trave2():\n",
    "    return 2\n",
    "a = trave2()\n",
    "print(a)"
   ]
  },
  {
   "cell_type": "code",
   "execution_count": 18,
   "id": "96f55fbe",
   "metadata": {},
   "outputs": [
    {
     "name": "stdout",
     "output_type": "stream",
     "text": [
      "2\n"
     ]
    }
   ],
   "source": [
    "def trave2():\n",
    "    return 2 #vì chạy tới đây là thoát hàm\n",
    "    return 7\n",
    "a = trave2()\n",
    "print(a)"
   ]
  },
  {
   "cell_type": "code",
   "execution_count": 2,
   "id": "632dad28",
   "metadata": {},
   "outputs": [
    {
     "name": "stdout",
     "output_type": "stream",
     "text": [
      "4\n"
     ]
    }
   ],
   "source": [
    "def demo():\n",
    "    for i in range(10):\n",
    "        if i == 5:\n",
    "            return i - 1 #thoát khỏi hàm for, i = 5 trả về 4\n",
    "    return 0\n",
    "a = demo()\n",
    "print(a)"
   ]
  },
  {
   "cell_type": "code",
   "execution_count": 2,
   "id": "467232b5",
   "metadata": {},
   "outputs": [
    {
     "name": "stdout",
     "output_type": "stream",
     "text": [
      "1\n"
     ]
    }
   ],
   "source": [
    "def demo():\n",
    "    for i in range(10):\n",
    "        for j in range(20):\n",
    "            if i*j == 15:\n",
    "                return i\n",
    "    return 0\n",
    "a = demo()\n",
    "print(a)"
   ]
  },
  {
   "cell_type": "code",
   "execution_count": 2,
   "id": "827f8b41",
   "metadata": {},
   "outputs": [
    {
     "name": "stdout",
     "output_type": "stream",
     "text": [
      "nhập a20\n"
     ]
    },
    {
     "data": {
      "text/plain": [
       "2"
      ]
     },
     "execution_count": 2,
     "metadata": {},
     "output_type": "execute_result"
    }
   ],
   "source": [
    "#kiểm tra chẳn lẻ đưa vào 1 con số nguyên, nếu là chẵn thì về 2, ngược lại 1\n",
    "\n",
    "def demo(a):\n",
    "    if a%2 == 0:\n",
    "        return 2\n",
    "    else:\n",
    "        return 1\n",
    "demo(int(input(\"nhập a\")))\n",
    "\n"
   ]
  },
  {
   "cell_type": "code",
   "execution_count": 3,
   "id": "2ea32f68",
   "metadata": {},
   "outputs": [
    {
     "name": "stdout",
     "output_type": "stream",
     "text": [
      "nhập a21\n"
     ]
    },
    {
     "data": {
      "text/plain": [
       "1"
      ]
     },
     "execution_count": 3,
     "metadata": {},
     "output_type": "execute_result"
    }
   ],
   "source": [
    "def demo(a):\n",
    "    if a%2 == 0:\n",
    "        return 2 #nếu a là chẵn thì return 2, nếu lẻ thì return 1, ko cần else, vì nếu là số chẵn thì sẽ kết thúc hàm\n",
    "    return 1\n",
    "demo(int(input(\"nhập a\")))\n"
   ]
  },
  {
   "cell_type": "code",
   "execution_count": 12,
   "id": "d7d8d18b",
   "metadata": {},
   "outputs": [
    {
     "data": {
      "text/plain": [
       "True"
      ]
     },
     "execution_count": 12,
     "metadata": {},
     "output_type": "execute_result"
    }
   ],
   "source": [
    "#viết hàm giai thừa 100 để kiểm tra gia thừa của 1 số có lớn hơn 100 ko\n",
    "#nếu có return True, sai False\n",
    "\n",
    "def giaithua(a):\n",
    "    giaithua = 1\n",
    "    for i in range(1, a+1):\n",
    "        giaithua *= i\n",
    "\n",
    "    return giaithua > 100\n",
    "giaithua(100)\n",
    "\n"
   ]
  },
  {
   "cell_type": "markdown",
   "id": "1d7f8db0",
   "metadata": {},
   "source": [
    "### Bài tập"
   ]
  },
  {
   "cell_type": "markdown",
   "id": "75fb488b",
   "metadata": {},
   "source": [
    "Viết hàm kiểm tra số nguyên tố"
   ]
  },
  {
   "cell_type": "code",
   "execution_count": 21,
   "id": "63701bd7",
   "metadata": {},
   "outputs": [
    {
     "name": "stdout",
     "output_type": "stream",
     "text": [
      "nhập a2\n"
     ]
    },
    {
     "data": {
      "text/plain": [
       "True"
      ]
     },
     "execution_count": 21,
     "metadata": {},
     "output_type": "execute_result"
    }
   ],
   "source": [
    "def sont(a):\n",
    "    dem = 0\n",
    "    for i in range(1,a+1):\n",
    "        if a%i == 0:\n",
    "            dem +=1\n",
    "    return dem == 2\n",
    "sont(int(input(\"nhập a\")))\n",
    "        "
   ]
  },
  {
   "cell_type": "markdown",
   "id": "221103cf",
   "metadata": {},
   "source": [
    "Nhập vào 3 điểm toán, lý, hóa\n",
    "\n",
    "Hãy viết hàm in điểm trung bung bình rồi tính điểm trung bình của toán lý, toán hóa, lý hóa và toán lý hóa"
   ]
  },
  {
   "cell_type": "code",
   "execution_count": null,
   "id": "1ba1d8ae",
   "metadata": {},
   "outputs": [],
   "source": [
    "t = float(input(\"nhập điểm toán\"))\n",
    "l = float(input(\"nhập điểm lý\"))\n",
    "h = float(input(\"nhập điểm hóa\"))\n",
    "def tb():\n",
    "    print(\"tb toán lý\",(t+l)/2)\n",
    "    print(\"tb toán hóa\",(t+h)/2)\n",
    "    print(\"tb lý hóa\",(l+h)/2)"
   ]
  },
  {
   "cell_type": "code",
   "execution_count": 24,
   "id": "bb5cdf80",
   "metadata": {},
   "outputs": [
    {
     "name": "stdout",
     "output_type": "stream",
     "text": [
      "nhập điểm toán10\n",
      "nhập điểm lý8\n",
      "nhập điểm hóa6\n",
      "tb toán lý 9.0\n",
      "tb toán hóa 8.0\n",
      "tb hóa lý 7.0\n",
      "tb toán lý hóa 8.0\n"
     ]
    }
   ],
   "source": [
    "def tb2so(a,b):\n",
    "    return (a+b)/2\n",
    "def tb3so(a,b,c):\n",
    "    return (a+b+c)/3\n",
    "t = float(input(\"nhập điểm toán\"))\n",
    "l = float(input(\"nhập điểm lý\"))\n",
    "h = float(input(\"nhập điểm hóa\"))\n",
    "\n",
    "print(\"tb toán lý\",tb2so(t,l))\n",
    "print(\"tb toán hóa\",tb2so(t,h))\n",
    "print(\"tb hóa lý\",tb2so(h,l))\n",
    "print(\"tb toán lý hóa\",tb3so(t,h,l))"
   ]
  },
  {
   "cell_type": "markdown",
   "id": "50f43307",
   "metadata": {},
   "source": [
    "Viết hàm đếm số lượng từ của một chuỗi đưa vào"
   ]
  },
  {
   "cell_type": "code",
   "execution_count": null,
   "id": "be785b29",
   "metadata": {},
   "outputs": [],
   "source": [
    "def DemTu(a):\n",
    "    sp = 0\n",
    "    for i in a:\n",
    "        if i ==' ':\n",
    "            sp += 1\n",
    "    return sp+1\n",
    "DemTu(input('chuỗi: '))"
   ]
  },
  {
   "cell_type": "markdown",
   "id": "b4adef40",
   "metadata": {},
   "source": [
    "Viết một hàm vẽ hình tròn, một hàm vẽ hình vuông và một hàm vẽ hình tam giác đều (giá trị đầu vào là a)\n",
    "\n",
    "Tất cả hàm này, bắt đầu từ 1 vị trí, sau khi vẽ ra, con trỏ sẽ tiến tới vị trí tiếp theo, cách vì đầu một khoảng a + 10 theo chiều x từ trái sang"
   ]
  },
  {
   "cell_type": "code",
   "execution_count": null,
   "id": "e405d1d4",
   "metadata": {},
   "outputs": [],
   "source": [
    "import turtle\n",
    "\n",
    "t = turtle.Turtle()\n",
    "\n"
   ]
  }
 ],
 "metadata": {
  "kernelspec": {
   "display_name": "Python 3 (ipykernel)",
   "language": "python",
   "name": "python3"
  },
  "language_info": {
   "codemirror_mode": {
    "name": "ipython",
    "version": 3
   },
   "file_extension": ".py",
   "mimetype": "text/x-python",
   "name": "python",
   "nbconvert_exporter": "python",
   "pygments_lexer": "ipython3",
   "version": "3.10.4"
  }
 },
 "nbformat": 4,
 "nbformat_minor": 5
}
