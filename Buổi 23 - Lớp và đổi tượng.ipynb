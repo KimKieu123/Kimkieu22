{
 "cells": [
  {
   "cell_type": "markdown",
   "id": "1c805421",
   "metadata": {},
   "source": [
    "# Lớp và đối tượng\n",
    "\n",
    "### Lớp (class) là gì?\n",
    "\n",
    "Lớp (Class) là tập hợp tất cả các đối tượng có chung các thuộc tính và hành vi."
   ]
  },
  {
   "cell_type": "markdown",
   "id": "812bf15e",
   "metadata": {},
   "source": [
    "### Khai báo lớp\n",
    "\n",
    "`class <tên lớp>:\n",
    "    <khai báo biến>\n",
    "    <khai báo hàm>`\n",
    "    \n",
    "Ví dụ:\n",
    "\n",
    "`class giangvien:\n",
    "    ten = \"Nguyễn Tâm Điền\"\n",
    "    mon = \"Python căn bản\"\n",
    "    def inten(self):\n",
    "        print(self.ten)        \n",
    "dien = giangvien()\n",
    "print(dien.mon)\n",
    "dien.inten()`\n",
    "\n",
    "##### Lưu ý:\n",
    "\n",
    "- giangvien là 1 lớp\n",
    "- dien là 1 đối tượng có tất cả thuộc tính (có biến ten, mon và hàm inten) của lớp giangvien\n",
    "- inten là 1 hàm trong lớp giangvien\n",
    "- dien.mon là 1 biến trong đối tượng dien\n",
    "- dien.inten() là cách để gọi hàm inten trong đối tượng dien\n",
    "\n",
    "\n",
    "<b> Hãy chạy thử đoạn lệnh ở ví dụ: </b>"
   ]
  },
  {
   "cell_type": "code",
   "execution_count": 3,
   "id": "40598ff8",
   "metadata": {},
   "outputs": [
    {
     "name": "stdout",
     "output_type": "stream",
     "text": [
      "Nguyễn Kim Kiều\n"
     ]
    }
   ],
   "source": [
    "class giangvien():\n",
    "    ten = \"Nguyễn Kim Kiều\"\n",
    "    tuoi = \"20\"\n",
    "    def hoc():\n",
    "        print(\"Đang học\")\n",
    "giangvien_kieu = giangvien()\n",
    "giangvien_binh = giangvien()\n",
    "giangvien_binh.ten = \"Võ Thanh Bình\"\n",
    "print(giangvien_kieu.ten)"
   ]
  },
  {
   "cell_type": "code",
   "execution_count": 9,
   "id": "0f97a2c0",
   "metadata": {},
   "outputs": [
    {
     "name": "stdout",
     "output_type": "stream",
     "text": [
      "Đang học\n",
      "Võ Thanh Bình\n",
      "20\n"
     ]
    }
   ],
   "source": [
    "class giangvien():\n",
    "    ten = \"Nguyễn Kim Kiều\"\n",
    "    tuoi = \"20\"\n",
    "    def hoc(self):\n",
    "        print(\"Đang học\")\n",
    "giangvien_kieu = giangvien()\n",
    "giangvien_binh = giangvien()\n",
    "giangvien_binh.ten = \"Võ Thanh Bình\"\n",
    "giangvien_binh.tuoi = 20\n",
    "giangvien_binh.hoc()\n",
    "print(giangvien_binh.ten)\n",
    "print(giangvien_binh.tuoi)"
   ]
  },
  {
   "cell_type": "code",
   "execution_count": 12,
   "id": "4be05ad1",
   "metadata": {},
   "outputs": [
    {
     "name": "stdout",
     "output_type": "stream",
     "text": [
      "Nguyễn Kim Kiều Đang học\n"
     ]
    }
   ],
   "source": [
    "class giangvien():\n",
    "    ten = \"Nguyễn Kim Kiều\"\n",
    "    tuoi = \"20\"\n",
    "    def hoc(self):\n",
    "        print(self.ten,\"Đang học\")\n",
    "giangvien_kieu = giangvien()\n",
    "giangvien_binh = giangvien()\n",
    "giangvien_binh.ten = \"Võ Thanh Bình\"\n",
    "giangvien_binh.tuoi = 20\n",
    "giangvien_kieu.hoc()"
   ]
  },
  {
   "cell_type": "markdown",
   "id": "6c4daedf",
   "metadata": {},
   "source": [
    "<b> Hãy tạo 1 class hocvien với 1 biến và 1 def giúp in giá trị biến đó ra màn hình </b>"
   ]
  },
  {
   "cell_type": "code",
   "execution_count": 16,
   "id": "5358318d",
   "metadata": {},
   "outputs": [
    {
     "name": "stdout",
     "output_type": "stream",
     "text": [
      "18\n",
      "Nguyễn Kim Kiều\n"
     ]
    }
   ],
   "source": [
    "class hocvien():\n",
    "    ten = \"Nguyễn Kim Kiều\"\n",
    "    diemso = 18\n",
    "    def inten(self):\n",
    "        print(self.ten)\n",
    "    def indiem(self):\n",
    "        print(self.diemso)\n",
    "kieu = hocvien()\n",
    "kieu.indiem()\n",
    "kieu.inten()"
   ]
  },
  {
   "cell_type": "code",
   "execution_count": 7,
   "id": "c41a6dc5",
   "metadata": {},
   "outputs": [
    {
     "name": "stdout",
     "output_type": "stream",
     "text": [
      "6\n",
      "Nguyễn Kim Kiều\n",
      "đạt\n"
     ]
    },
    {
     "ename": "NameError",
     "evalue": "name 'diemso' is not defined",
     "output_type": "error",
     "traceback": [
      "\u001b[1;31m---------------------------------------------------------------------------\u001b[0m",
      "\u001b[1;31mNameError\u001b[0m                                 Traceback (most recent call last)",
      "Input \u001b[1;32mIn [7]\u001b[0m, in \u001b[0;36m<cell line: 28>\u001b[1;34m()\u001b[0m\n\u001b[0;32m     26\u001b[0m ngoc \u001b[38;5;241m=\u001b[39m hocvien()\n\u001b[0;32m     27\u001b[0m ngoc\u001b[38;5;241m.\u001b[39minten \u001b[38;5;241m=\u001b[39m \u001b[38;5;124m\"\u001b[39m\u001b[38;5;124mNgọc\u001b[39m\u001b[38;5;124m\"\u001b[39m\n\u001b[1;32m---> 28\u001b[0m \u001b[43mngoc\u001b[49m\u001b[38;5;241;43m.\u001b[39;49m\u001b[43msetdiem\u001b[49m\u001b[43m(\u001b[49m\u001b[38;5;241;43m8\u001b[39;49m\u001b[43m)\u001b[49m\n",
      "Input \u001b[1;32mIn [7]\u001b[0m, in \u001b[0;36mhocvien.setdiem\u001b[1;34m(self, indiem)\u001b[0m\n\u001b[0;32m     14\u001b[0m \u001b[38;5;28;01mdef\u001b[39;00m \u001b[38;5;21msetdiem\u001b[39m(\u001b[38;5;28mself\u001b[39m,indiem):\n\u001b[1;32m---> 15\u001b[0m     \u001b[38;5;28;01mif\u001b[39;00m \u001b[38;5;241m0\u001b[39m \u001b[38;5;241m<\u001b[39m \u001b[43mdiemso\u001b[49m \u001b[38;5;241m<\u001b[39m \u001b[38;5;241m10\u001b[39m:\n\u001b[0;32m     16\u001b[0m         \u001b[38;5;28mself\u001b[39m\u001b[38;5;241m.\u001b[39mdiemso \u001b[38;5;241m=\u001b[39m diem\n",
      "\u001b[1;31mNameError\u001b[0m: name 'diemso' is not defined"
     ]
    }
   ],
   "source": [
    "class hocvien():\n",
    "    ten = \"Nguyễn Kim Kiều\"\n",
    "    diemso = 6\n",
    "    def inten(self):\n",
    "        print(self.ten)\n",
    "    def indiem(self):\n",
    "        print(self.diemso)\n",
    "    def danhgianangluc(self):\n",
    "        if self.diemso > 5:\n",
    "            print(\"đạt\")\n",
    "        else: \n",
    "            print(\"không đạt\")\n",
    "            \n",
    "    def setdiem(self,indiem):\n",
    "        if 0 < diemso < 10:\n",
    "            self.diemso = diem\n",
    "            \n",
    "        \n",
    "        \n",
    "kieu = hocvien()\n",
    "kieu.indiem()\n",
    "kieu.inten()\n",
    "kieu.danhgianangluc()\n",
    "\n",
    "\n",
    "ngoc = hocvien()\n",
    "ngoc.inten = \"Ngọc\"\n",
    "ngoc.setdiem(8)\n",
    "\n"
   ]
  },
  {
   "cell_type": "markdown",
   "id": "b2481280",
   "metadata": {},
   "source": [
    "### Tham số self\n",
    "\n",
    "Tham số self là tham số được sử dụng khi khai báo các hàm trong lớp\n",
    "\n",
    "Tham số self miêu tả chính lớp ta đang xây dựng, giúp chúng ta sử dụng được những biến và hàm của lớp đó\n",
    "\n",
    "Ví dụ:\n",
    "\n",
    "`class giangvien:\n",
    "    ten = \"Nguyễn Tâm Điền\"\n",
    "    mon = \"Python căn bản\"\n",
    "    def doiten(self,ten):\n",
    "        self.ten = ten\n",
    "    def inten(self):\n",
    "        print(self.ten)        \n",
    "dien = giangvien()\n",
    "dien.doiten(\"NTD\")\n",
    "dien.inten()`\n",
    "\n",
    "Sau khi thực hiện đoạn code trên, giá trị của biến ten trong đối tượng dien đã bị thay đổi thành \"NTD\"\n",
    "\n",
    "<b> Hãy chạy thử đoạn lệnh ở ví dụ: </b>"
   ]
  },
  {
   "cell_type": "code",
   "execution_count": null,
   "id": "fd2f5d7c",
   "metadata": {},
   "outputs": [],
   "source": []
  },
  {
   "cell_type": "markdown",
   "id": "4dfd8d1d",
   "metadata": {},
   "source": [
    "<b> Hãy thêm 1 def vào class hocvien giúp thay đổi giá trị biến bất kỳ trong class </b>"
   ]
  },
  {
   "cell_type": "code",
   "execution_count": null,
   "id": "98d911c0",
   "metadata": {},
   "outputs": [],
   "source": []
  },
  {
   "cell_type": "markdown",
   "id": "b2909dd4",
   "metadata": {},
   "source": [
    "### Hàm \\_\\_init__\n",
    "\n",
    "Hàm \\_\\_init__ là hàm khởi tạo\n",
    "\n",
    "Ví dụ:\n",
    "\n",
    "`class giangvien:\n",
    "    def __init__(self,ten,mon):\n",
    "        self.ten = ten\n",
    "        self.mon = mon\n",
    "    def doiten(self,ten):\n",
    "        self.ten = ten\n",
    "    def inten(self):\n",
    "        print(self.ten)   \n",
    "dien = giangvien(\"Điền\",\"Python căn bản\")\n",
    "thang = giangvien(\"Thắng\",\"Python siêu cấp\")\n",
    "dien.inten()\n",
    "thang.inten()`\n",
    "\n",
    "<b> Hãy chạy thử đoạn lệnh ở ví dụ: </b>"
   ]
  },
  {
   "cell_type": "code",
   "execution_count": null,
   "id": "f15266fb",
   "metadata": {},
   "outputs": [],
   "source": []
  },
  {
   "cell_type": "markdown",
   "id": "9064cc0a",
   "metadata": {},
   "source": [
    "<b> Hãy thêm 1 def \\_\\_init__ vào class hocvien để khởi tạo tên và tuổi của học viên </b>"
   ]
  },
  {
   "cell_type": "code",
   "execution_count": null,
   "id": "3e6a0dae",
   "metadata": {},
   "outputs": [],
   "source": []
  },
  {
   "cell_type": "markdown",
   "id": "d137f2f5",
   "metadata": {},
   "source": [
    "### Bài tập"
   ]
  },
  {
   "cell_type": "markdown",
   "id": "d243726c",
   "metadata": {},
   "source": [
    "Hãy xây dựng 1 class hình tròn có các thuộc tính sau:\n",
    "\n",
    "- biến x và y chứa tọa độ tâm đường tròn\n",
    "- biến r chứa bán kính đường chọn\n",
    "- hàm draw: để vẽ đường tròn"
   ]
  },
  {
   "cell_type": "code",
   "execution_count": 4,
   "id": "4121525f",
   "metadata": {},
   "outputs": [],
   "source": [
    "import turtle\n",
    "t = turtle.Turtle()\n",
    "\n",
    "class hinhtron():\n",
    "    def __init__(self,x,y,r):\n",
    "        self.x = x\n",
    "        self.y = y\n",
    "        self.r = r\n",
    "    def draw(self):\n",
    "        t.penup()\n",
    "        t.goto(self.x, self.y-self.r)\n",
    "        t.pendown()\n",
    "        t.circle(self.r)\n",
    "        \n",
    "vehinh = hinhtron(50,100,150)\n",
    "vehinh.draw()\n",
    "\n"
   ]
  },
  {
   "cell_type": "code",
   "execution_count": 2,
   "id": "11c2f158",
   "metadata": {},
   "outputs": [],
   "source": [
    "import turtle\n",
    "t = turtle.Turtle()\n",
    "\n",
    "class hinhtron:\n",
    "    def __init__(self,x,y,r):\n",
    "        self.x = x\n",
    "        self.y = y\n",
    "        self.r = r\n",
    "    def draw(self):\n",
    "        t.penup()\n",
    "        t.goto(self.x, self.y-self.r)\n",
    "        t.pendown()\n",
    "        t.circle(self.r)\n",
    "\n",
    "ht1 = hinhtron(-100, 100, 50)\n",
    "ht1.draw()"
   ]
  },
  {
   "cell_type": "markdown",
   "id": "9017050f",
   "metadata": {},
   "source": [
    "Tạo một lớp phân số có các thuộc tính:\n",
    "\n",
    "- biến tử số và mẫu số\n",
    "- hàm cong: để cộng với một đối tượng khác có lớp phân số rồi trả về dối tượng có phân số mới\n",
    "- hàm tru: để trừ với một đối tượng khác có lớp phân số rồi trả về dối tượng có phân số mới\n",
    "- hàm nhan: để nhân với một đối tượng khác có lớp phân số rồi trả về dối tượng có phân số mới\n",
    "- hàm chia: để chia với một đối tượng khác có lớp phân số rồi trả về dối tượng có phân số mới\n",
    "- hàm toigian: để tối giản phân số rồi trả về dối tượng có phân số mới"
   ]
  },
  {
   "cell_type": "code",
   "execution_count": 2,
   "id": "2ae72d93",
   "metadata": {},
   "outputs": [
    {
     "name": "stdout",
     "output_type": "stream",
     "text": [
      "25/15\n"
     ]
    }
   ],
   "source": [
    "class phanso:\n",
    "    def __init__(self,tuso,mauso):\n",
    "        self.tuso = tuso\n",
    "        self.mauso = mauso\n",
    "    def inphanso(self):\n",
    "        print(self.tuso,\"/\",self.mauso,sep = \"\")\n",
    "    def cong(self,psA):\n",
    "        tuso_ketqua = self.tuso*psA.mauso + self.mauso*psA.tuso\n",
    "        mauso_ketqua = self.mauso*psA.mauso\n",
    "        return phanso(tuso_ketqua,mauso_ketqua)\n",
    "    def toigian(self,psA):\n",
    "        for i in range(self.tuso,1,-1):\n",
    "            if self.tuso%i == 0 and sefl.mauso % i == 0:\n",
    "                tuso_toigian = self.tuso//i\n",
    "                mauso_toigian = self.mauso//i\n",
    "                return phanso(tuso_toigian,mauso_toigian)\n",
    "ps1 = phanso(2,3)\n",
    "ps2 = phanso(5,5)\n",
    "ps3 = ps1.cong(ps2)\n",
    "ps3.inphanso()\n"
   ]
  },
  {
   "cell_type": "markdown",
   "id": "39a8cb80",
   "metadata": {},
   "source": [
    "Viết class NhanVien gồm các thuộc tính:\n",
    "\n",
    "<b> Các biến </b>\n",
    "\n",
    "- Tên\n",
    "- Tuổi\n",
    "- Địa chỉ\n",
    "- Tiền lương\n",
    "- Tổng số giờ làm\n",
    "\n",
    "<b> Các hàm </b>\n",
    "\n",
    "- nhap : Nhập các thông tin cho nhân viên từ bàn phím\n",
    "- in : In ra tất cả các thông tin của nhân viên\n",
    "- thuong: Tính toán và trả về số tiền thưởng của nhân viên theo công thức sau:\n",
    "\n",
    "    Nếu tổng số giờ làm của nhân viên >=200 thì thưởng = lương * 20%\n",
    "    \n",
    "    Nếu tổng số giờ làm của nhân viên <200 và >=100 thì thưởng = lương * 10%\n",
    "    \n",
    "    Nếu tổng số giờ làm của nhân viên <100 thì thưởng = 0"
   ]
  },
  {
   "cell_type": "code",
   "execution_count": 5,
   "id": "26d12a44",
   "metadata": {},
   "outputs": [
    {
     "name": "stdout",
     "output_type": "stream",
     "text": [
      "tên  kieu tuổi  18 địa chỉ  TPHCM lương  500 giờ làm  100\n",
      "thưởng  50.0\n"
     ]
    }
   ],
   "source": [
    "class nhanvien:\n",
    "    def __init__(self,ten,tuoi,diachi,luong,giolam):\n",
    "        self.ten = ten\n",
    "        self.tuoi = tuoi\n",
    "        self.diachi = diachi\n",
    "        self.luong = luong\n",
    "        self.giolam = giolam\n",
    "    def inthongtin(self):\n",
    "        print(\"tên \",self.ten,\"tuổi \",self.tuoi,\"địa chỉ \",self.diachi,\"lương \",self.luong,\"giờ làm \",self.giolam)\n",
    "    def thuong(self):\n",
    "        if self.giolam >= 200:\n",
    "            print(\"thưởng \",self.luong*0.2)\n",
    "        elif self.giolam >= 100:\n",
    "            print(\"thưởng \",self.luong*0.1)\n",
    "        else:\n",
    "            print(\"thưởng \",0)\n",
    "\n",
    "kieu = nhanvien(\"kieu\",18,\"TPHCM\",500,100)\n",
    "kieu.inthongtin()\n",
    "kieu.thuong()\n",
    "        \n",
    "        "
   ]
  },
  {
   "cell_type": "code",
   "execution_count": null,
   "id": "898283b8",
   "metadata": {},
   "outputs": [],
   "source": [
    "kieu = nhanvien\n",
    "kieu.ten = \"kieu\"\n",
    "kieu.tuoi = 18\n",
    "kieu.diachi = \"TPHCM\"\n",
    "kieu.luong = 500\n",
    "kieu.giolam = 200"
   ]
  }
 ],
 "metadata": {
  "kernelspec": {
   "display_name": "Python 3 (ipykernel)",
   "language": "python",
   "name": "python3"
  },
  "language_info": {
   "codemirror_mode": {
    "name": "ipython",
    "version": 3
   },
   "file_extension": ".py",
   "mimetype": "text/x-python",
   "name": "python",
   "nbconvert_exporter": "python",
   "pygments_lexer": "ipython3",
   "version": "3.10.4"
  }
 },
 "nbformat": 4,
 "nbformat_minor": 5
}
