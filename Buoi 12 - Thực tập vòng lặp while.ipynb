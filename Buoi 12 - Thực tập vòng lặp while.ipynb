{
 "cells": [
  {
   "cell_type": "markdown",
   "id": "1f7be993",
   "metadata": {},
   "source": [
    "# Thực tập vòng lặp While\n",
    "\n",
    "### Bài 1\n",
    "\n",
    "Nhập vào số a, sử dụng lệnh while (không sử dụng break và for) để xác định xem số đó có phải là số nguyên tố hay không"
   ]
  },
  {
   "cell_type": "code",
   "execution_count": 4,
   "id": "8cb73965",
   "metadata": {},
   "outputs": [
    {
     "name": "stdout",
     "output_type": "stream",
     "text": [
      "nhập vào a8\n",
      "a không phải là số nguyên tố\n"
     ]
    }
   ],
   "source": [
    "a = int(input('nhập vào a'))\n",
    "i = 1\n",
    "d = 0\n",
    "if a>=2:\n",
    "    while i<= a:\n",
    "        if a%i == 0:\n",
    "            d +=1\n",
    "        i +=1\n",
    "if d == 2:\n",
    "    print(\"a là số nguyên tố\")\n",
    "else:\n",
    "    print('a không phải là số nguyên tố')"
   ]
  },
  {
   "cell_type": "markdown",
   "id": "9f2357ca",
   "metadata": {},
   "source": [
    "### Bài 2\n",
    "\n",
    "Hãy sử dụng lệnh while lập trình cho bài đoán số ở buổi thứ 9"
   ]
  },
  {
   "cell_type": "code",
   "execution_count": 1,
   "id": "db79cb9d",
   "metadata": {},
   "outputs": [
    {
     "name": "stdout",
     "output_type": "stream",
     "text": [
      "tui đoán số bạn nghĩ là:50>\n",
      "tui đoán số bạn nghĩ là:75<\n",
      "tui đoán số bạn nghĩ là:62>\n",
      "tui đoán số bạn nghĩ là:68>\n",
      "tui đoán số bạn nghĩ là:71<\n",
      "tui đoán số bạn nghĩ là:69>\n",
      "tui đoán số bạn nghĩ là:70=\n",
      "số mình đoán là: 70 trong 7 lần đoán\n"
     ]
    }
   ],
   "source": [
    "ghd = 0\n",
    "ght = 100\n",
    "sodoan = (ght+ghd)//2\n",
    "solandoan = 1\n",
    "tl = input('tui đoán số bạn nghĩ là:' + str(sodoan))\n",
    "for i in range(7):\n",
    "    \n",
    "    if tl != \"=\":\n",
    "        solandoan += 1\n",
    "        if tl == \">\":\n",
    "            ghd = sodoan + 1\n",
    "        elif tl == \"<\":\n",
    "            ght = sodoan -1\n",
    "        sodoan = (ght + ghd)//2\n",
    "        tl = input('tui đoán số bạn nghĩ là:' + str(sodoan))\n",
    "    \n",
    "print('số mình đoán là:',sodoan,\"trong\",solandoan,\"lần đoán\")\n"
   ]
  },
  {
   "cell_type": "code",
   "execution_count": 1,
   "id": "4fad7ad6",
   "metadata": {},
   "outputs": [
    {
     "name": "stdout",
     "output_type": "stream",
     "text": [
      "tui đoán số bạn nghĩ là:50=\n",
      "số mình đoán là: 50 trong 1 lần đoán\n"
     ]
    }
   ],
   "source": [
    "ghd = 0\n",
    "ght = 100\n",
    "sodoan = (ght+ghd)//2\n",
    "solandoan = 1\n",
    "tl = input('tui đoán số bạn nghĩ là:' + str(sodoan))\n",
    "while tl != \"=\":\n",
    "        solandoan += 1\n",
    "        if tl == \">\":\n",
    "            ghd = sodoan + 1\n",
    "        elif tl == \"<\":\n",
    "            ght = sodoan -1\n",
    "        sodoan = (ght + ghd)//2\n",
    "        tl = input('tui đoán số bạn nghĩ là:' + str(sodoan))\n",
    "    \n",
    "print('số mình đoán là:',sodoan,\"trong\",solandoan,\"lần đoán\")"
   ]
  },
  {
   "cell_type": "markdown",
   "id": "58f5b789",
   "metadata": {},
   "source": [
    "### Bài 3\n",
    "\n",
    "Nhập vào số a, hãy đếm a có bao nhiêu chữ số chẵn, bao nhiêu cữ số lẻ\n",
    "\n",
    "#### Cách 1 (dùng chuỗi):"
   ]
  },
  {
   "cell_type": "code",
   "execution_count": 4,
   "id": "e7f9da21",
   "metadata": {},
   "outputs": [
    {
     "name": "stdout",
     "output_type": "stream",
     "text": [
      "nhập a:123456\n",
      "chữ số chẵn  9\n",
      "chữ số lẻ  12\n"
     ]
    }
   ],
   "source": []
  },
  {
   "cell_type": "markdown",
   "id": "9a3d9703",
   "metadata": {},
   "source": [
    "#### Cách 2 (không dùng chuỗi):"
   ]
  },
  {
   "cell_type": "code",
   "execution_count": 3,
   "id": "d4e474c8",
   "metadata": {},
   "outputs": [
    {
     "name": "stdout",
     "output_type": "stream",
     "text": [
      "nhập a:44455531\n",
      "chữ số chẵn  3\n",
      "chữ số lẻ  5\n"
     ]
    }
   ],
   "source": [
    "a=int(input(\"nhập a:\"))\n",
    "i = 1\n",
    "c_chan = 0\n",
    "c_le = 0\n",
    "b = 0\n",
    "while i<=9:\n",
    "    if i%2==0:\n",
    "        b = str(a).count(str(i))\n",
    "        c_chan += int(b)\n",
    "    else:\n",
    "        b = str(a).count(str(i))\n",
    "        c_le += int(b)\n",
    "    i +=1\n",
    "print(\"chữ số chẵn \",c_chan) \n",
    "print(\"chữ số lẻ \",c_le)"
   ]
  },
  {
   "cell_type": "markdown",
   "id": "69539ece",
   "metadata": {},
   "source": [
    "### Bài 4\n",
    "\n",
    "Nhập vào số a, hãy tính tổng các chữ số nguyên tố của a"
   ]
  },
  {
   "cell_type": "code",
   "execution_count": 11,
   "id": "f001bd9a",
   "metadata": {},
   "outputs": [
    {
     "name": "stdout",
     "output_type": "stream",
     "text": [
      "nhập a:5556\n",
      "15\n"
     ]
    }
   ],
   "source": [
    "a = input(\"nhập a:\")\n",
    "i = 0\n",
    "tong = 0\n",
    "b = 0\n",
    "while i<len(a):\n",
    "    b = int(a[i])\n",
    "    if b == 2 or b == 3 or b == 5 or b == 7:\n",
    "        tong +=b\n",
    "    i +=1\n",
    "print(tong) "
   ]
  },
  {
   "cell_type": "markdown",
   "id": "0a5075a4",
   "metadata": {},
   "source": [
    "### Bài 5\n",
    "\n",
    "Số armstrong là số có tổng của các chữ số mũ số lượng chữ số bằng chính nó\n",
    "\n",
    "Ví dụ\n",
    "\n",
    "Số 371 là một số armstrong vì:\n",
    "\n",
    "371 = 3^3 + 7^3 + 1^3 (3 là số lượng chữ số của 371)\n",
    "\n",
    "Số 1634 là một số armstrong vì:\n",
    "\n",
    "1634 = 1^4 + 6^4 + 3^4 + 4^4 (4 là số lượng chữ số của 1634)\n",
    "\n",
    "Nhập vào số a, kiểm tra xem a có phải là số armstrong không"
   ]
  },
  {
   "cell_type": "code",
   "execution_count": 7,
   "id": "b9ed54a5",
   "metadata": {},
   "outputs": [
    {
     "name": "stdout",
     "output_type": "stream",
     "text": [
      "nhập a:123\n",
      "a không là số amstrong\n"
     ]
    }
   ],
   "source": [
    "a = input(\"nhập a:\")\n",
    "i = 0\n",
    "tong_tam = 0\n",
    "tong = 0\n",
    "b = 0\n",
    "\n",
    "while i<len(a):\n",
    "    b = int(a[i])\n",
    "    tong_tam = b**int(len(a))\n",
    "    tong +=tong_tam\n",
    "    i +=1\n",
    "if tong == int(a):\n",
    "    print(\"a là số amstrong\")\n",
    "else:\n",
    "    print(\"a không là số amstrong\")\n"
   ]
  },
  {
   "cell_type": "code",
   "execution_count": null,
   "id": "ece3f62b",
   "metadata": {},
   "outputs": [],
   "source": [
    "a = int(input('Nhập vào số nguyên dương a: '))\n",
    "while (a <= 0):\n",
    "    print('Nhập sai quy định, yêu cầu nhập lại a!')\n",
    "    a = int(input('Nhập vào số nguyên dương a: '))\n",
    "    \n",
    "temp = a\n",
    "tong = 0\n",
    "count = len(str(a))\n",
    "while temp > 0:\n",
    "    tong += (temp % 10) ** count\n",
    "    temp = temp // 10\n",
    "    \n",
    "if tong == a:\n",
    "    print(a,'là số amstrong')\n",
    "else:\n",
    "    print(a,'không là số amstrong')"
   ]
  },
  {
   "cell_type": "code",
   "execution_count": null,
   "id": "1a05d9f5",
   "metadata": {},
   "outputs": [],
   "source": [
    "a=int(input(\"nhập a:\"))\n",
    "a0=a\n",
    "tong=0\n",
    "b=len(str(a))\n",
    "while a!=0:\n",
    "    c=a%10\n",
    "    a=a//10\n",
    "    tong+=c**int(b)\n",
    "a=a0\n",
    "if tong==a:\n",
    "    print(\"Đây là số armstrong \")\n",
    "else: \n",
    "    print(\"Đây ko là số armstrong \")"
   ]
  },
  {
   "cell_type": "markdown",
   "id": "f8a584d3",
   "metadata": {},
   "source": [
    "### Bài 6\n",
    "\n",
    "Dãy số fibonacci là dãy số được định nghĩa như sau: 1, 1, 2, 3, 5, 8, 13,... với số kế tiếp sẽ bằng tổng hai số trước đó\n",
    "\n",
    "Nhập vào A, hãy tìm số trong dãy số fibonacci lớn nhất nhưng không vượt quá A"
   ]
  },
  {
   "cell_type": "code",
   "execution_count": 2,
   "id": "3ad4d85b",
   "metadata": {},
   "outputs": [
    {
     "name": "stdout",
     "output_type": "stream",
     "text": [
      "Nhập số a:15\n",
      "Nhập đúng quy định\n",
      "13\n"
     ]
    }
   ],
   "source": [
    "while True:\n",
    "    a = int(input('Nhập số a:'))\n",
    "    if a > 0:\n",
    "        print('Nhập đúng quy định')\n",
    "        break\n",
    "    print('Nhập sai quy định')\n",
    "\n",
    "b = 1\n",
    "c = 1\n",
    "while (b + c) <= a:\n",
    "    c, b = b + c,c\n",
    "print(c)"
   ]
  },
  {
   "cell_type": "code",
   "execution_count": 3,
   "id": "ee906fa9",
   "metadata": {},
   "outputs": [
    {
     "name": "stdout",
     "output_type": "stream",
     "text": [
      "Nhập số A:13\n",
      "Nhập đúng quy định\n",
      "13\n"
     ]
    }
   ],
   "source": [
    "while True:\n",
    "    A = int(input('Nhập số A:'))\n",
    "    if A > 0:\n",
    "        print('Nhập đúng quy định')\n",
    "        break\n",
    "    print('Nhập sai quy định')\n",
    "\n",
    "a = 1\n",
    "b = 1\n",
    "c = a + b\n",
    "while c<= A:\n",
    "    a = b\n",
    "    b = c\n",
    "    c = a + b\n",
    "print(b)"
   ]
  },
  {
   "cell_type": "markdown",
   "id": "9fa794f2",
   "metadata": {},
   "source": [
    "### Bài 7\n",
    "\n",
    "Nhập vào A, tìm n nhỏ nhất sao cho\n",
    "\n",
    "1 + 1/2 + 1/3 + 1/4 + ... + 1/n > A"
   ]
  },
  {
   "cell_type": "code",
   "execution_count": 4,
   "id": "246ec002",
   "metadata": {},
   "outputs": [
    {
     "name": "stdout",
     "output_type": "stream",
     "text": [
      "nhập a:2\n",
      "4\n"
     ]
    }
   ],
   "source": [
    "a=int(input(\"nhập a:\"))\n",
    "i = 1\n",
    "tong = 0\n",
    "n = 0\n",
    "while tong<=a:\n",
    "    tong +=(1/i)\n",
    "    n = i\n",
    "    i +=1\n",
    "print(n)\n",
    "\n",
    "    "
   ]
  },
  {
   "cell_type": "code",
   "execution_count": null,
   "id": "070beb50",
   "metadata": {},
   "outputs": [],
   "source": [
    "#cách khác\n",
    "a = int(input(\"nhập a\"))\n",
    "s = 0\n",
    "n = 1\n",
    "while s <=a:\n",
    "    n += 1\n",
    "    s += 1/n\n",
    "    \n",
    "print(n)"
   ]
  },
  {
   "cell_type": "markdown",
   "id": "c5fd4d8a",
   "metadata": {},
   "source": [
    "### Bài 8\n",
    "\n",
    "Nhập vào a và b là số nguyên dương (b có một chữ số, nhập sai yêu cầu nhập lại), hãy tìm vị trí đầu tiên (bắt đầu từ bên trái) của b trong a, nếu không tìm thấy thì in kết quả là 0 (ví trí đầu bắt đầu từ 1)\n",
    "\n",
    "<b>Ví dụ:</b>\n",
    "\n",
    "<b>Nhập:</b>\n",
    "- a = 125785\n",
    "- b = 5\n",
    "\n",
    "<b>Kết quả:</b> 3 (do số 5 nằm ở vị trí 3)"
   ]
  },
  {
   "cell_type": "code",
   "execution_count": 2,
   "id": "9edf35ac",
   "metadata": {},
   "outputs": [
    {
     "name": "stdout",
     "output_type": "stream",
     "text": [
      "nhập a:1\n",
      "nhập b:-1\n",
      "yêu cầu nhập lại\n",
      "nhập b:2\n",
      "0\n"
     ]
    }
   ],
   "source": [
    "a=int(input(\"nhập a:\"))\n",
    "b=int(input(\"nhập b:\"))\n",
    "while a<=0:\n",
    "    print(\"yêu cầu nhập lại\")\n",
    "    a=int(input(\"nhập a:\"))\n",
    "while b<=0 or (b//10)>=1:\n",
    "    print(\"yêu cầu nhập lại\")\n",
    "    b=int(input(\"nhập b:\"))\n",
    "c = str(a).find(str(b))\n",
    "if c == -1:\n",
    "    print(\"0\")\n",
    "else:\n",
    "    print(c+1)"
   ]
  },
  {
   "cell_type": "code",
   "execution_count": null,
   "id": "e49da41d",
   "metadata": {},
   "outputs": [],
   "source": [
    "#cách khác\n",
    "while True:\n",
    "\ta = int(input('Nhập a:'))\n",
    "\tb = int(input('Nhập b:'))\n",
    "\tif a > 0 and 0 < b <= 9:\n",
    "\t\tbreak \n",
    "\telse:\n",
    "\t\tprint('Yêu cầu nhập lại')\n",
    "\n",
    "b = str(b)\n",
    "i = 0\n",
    "\n",
    "while i < len(a):\n",
    "    if a.[i] == b:\n",
    "        print(i + 1)\n",
    "        break\n",
    "    i += 1\n",
    "if i == len(a):\n",
    "    print(0)\n",
    "\n"
   ]
  }
 ],
 "metadata": {
  "kernelspec": {
   "display_name": "Python 3 (ipykernel)",
   "language": "python",
   "name": "python3"
  },
  "language_info": {
   "codemirror_mode": {
    "name": "ipython",
    "version": 3
   },
   "file_extension": ".py",
   "mimetype": "text/x-python",
   "name": "python",
   "nbconvert_exporter": "python",
   "pygments_lexer": "ipython3",
   "version": "3.10.4"
  }
 },
 "nbformat": 4,
 "nbformat_minor": 5
}
