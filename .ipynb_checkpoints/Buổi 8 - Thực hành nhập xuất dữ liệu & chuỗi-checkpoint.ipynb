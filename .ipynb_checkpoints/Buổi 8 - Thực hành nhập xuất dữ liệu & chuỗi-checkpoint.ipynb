{
 "cells": [
  {
   "cell_type": "markdown",
   "id": "5bc93fb0",
   "metadata": {},
   "source": [
    "# Thực hành nhập xuất dữ liệu & chuỗi\n",
    "\n",
    "### Bài tập tra cứu lệnh\n",
    "\n",
    "Nhập vào một chuỗi, kiểm tra xem chuỗi đó có ký tự nào là chữ in hoa hay không, nếu có thì in True, không có thì in False"
   ]
  },
  {
   "cell_type": "code",
   "execution_count": 4,
   "id": "4b3df2ba",
   "metadata": {},
   "outputs": [
    {
     "name": "stdout",
     "output_type": "stream",
     "text": [
      "có ký tự in hoa True\n"
     ]
    }
   ],
   "source": [
    "chuoi = \"xin chào Mọi người\"\n",
    "print(\"có ký tự in hoa\",not chuoi.islower())"
   ]
  },
  {
   "cell_type": "code",
   "execution_count": 3,
   "id": "50a04dce",
   "metadata": {},
   "outputs": [
    {
     "name": "stdout",
     "output_type": "stream",
     "text": [
      "chuối:xin chào Mọi người\n",
      "có ký tự in hoa True\n"
     ]
    }
   ],
   "source": [
    "chuoi = input(\"chuối:\")\n",
    "print(\"có ký tự in hoa\",not chuoi.islower())"
   ]
  },
  {
   "cell_type": "markdown",
   "id": "e14eae7c",
   "metadata": {},
   "source": [
    "Nhập vào một chuỗi, kiểm tra xem chuỗi đó có ký tự nào là chữ in thường hay không, nếu có thì in True, không có thì in False"
   ]
  },
  {
   "cell_type": "code",
   "execution_count": 9,
   "id": "ab00180c",
   "metadata": {},
   "outputs": [
    {
     "name": "stdout",
     "output_type": "stream",
     "text": [
      "có ký tự in hoa True\n"
     ]
    }
   ],
   "source": [
    "chuoi = \"XIN CHÀO MỌI nGƯỜI\"\n",
    "print(\"có ký tự thường\",not chuoi.isupper())"
   ]
  },
  {
   "cell_type": "code",
   "execution_count": null,
   "id": "c8a348f6",
   "metadata": {},
   "outputs": [],
   "source": []
  },
  {
   "cell_type": "code",
   "execution_count": null,
   "id": "c1d29cbf",
   "metadata": {},
   "outputs": [],
   "source": [
    "chuoi = input(\"nhập chuỗi:\")\n",
    "print(\"có ký tự thường\",not chuoi.isupper())"
   ]
  },
  {
   "cell_type": "markdown",
   "id": "eab86ecf",
   "metadata": {},
   "source": [
    "Nhập vào một chuỗi a và chuỗi b, tìm vị trí đầu tiên xuất hiện chuỗi b trong chuỗi a"
   ]
  },
  {
   "cell_type": "code",
   "execution_count": 5,
   "id": "051eb4af",
   "metadata": {},
   "outputs": [
    {
     "name": "stdout",
     "output_type": "stream",
     "text": [
      "vị trí của b: 1\n"
     ]
    }
   ],
   "source": [
    "a = \"xin chào tất cả mọi người\"\n",
    "b = \"i\"\n",
    "print(\"vị trí của b:\", a.find(b)) #nếu a ko tìm được b trong a thì sẽ trả về -1 không báo lỗi\n",
    "                                 #index nếu ko tìm đc sẽ báo lỗi\n",
    "                                #rfind tìm từ bên phải"
   ]
  },
  {
   "cell_type": "markdown",
   "id": "9239bc4e",
   "metadata": {},
   "source": [
    "Nhập vào một chuỗi a, hãy xóa từ đầu tiên trong chuỗi a, rồi in ra màn hình"
   ]
  },
  {
   "cell_type": "code",
   "execution_count": 2,
   "id": "90967cd9",
   "metadata": {},
   "outputs": [
    {
     "name": "stdout",
     "output_type": "stream",
     "text": [
      "in chào mọi người\n"
     ]
    }
   ],
   "source": [
    "a = \"xin chào mọi người\"\n",
    "print(a.lstrip(\"x\"))"
   ]
  },
  {
   "cell_type": "code",
   "execution_count": 2,
   "id": "3d19b448",
   "metadata": {},
   "outputs": [
    {
     "name": "stdout",
     "output_type": "stream",
     "text": [
      "nhập a:xin chào\n",
      " vị trí đầu tiên khoảng trắng 3\n",
      "chào\n"
     ]
    }
   ],
   "source": [
    "a = input(\"nhập a:\")\n",
    "tim_khoang_trang = a.find(' ')\n",
    "print(' vị trí đầu tiên khoảng trắng', tim_khoang_trang)\n",
    "bo_ky_tu_dau = a[tim_khoang_trang+1:]\n",
    "print(bo_ky_tu_dau)\n"
   ]
  },
  {
   "cell_type": "markdown",
   "id": "05b74fb4",
   "metadata": {},
   "source": [
    "### Bài 1\n",
    "\n",
    "Nhập vào một chuỗi, đếm xem có bao nhiêu từ trong chuỗi kết thúc bằng chữ n"
   ]
  },
  {
   "cell_type": "code",
   "execution_count": 4,
   "id": "d126675c",
   "metadata": {},
   "outputs": [
    {
     "name": "stdout",
     "output_type": "stream",
     "text": [
      "3\n"
     ]
    }
   ],
   "source": [
    "a = \"xin chào các bạn nhé\"\n",
    "b = a.count(\"n \") + a.count(\"n, \") + a.count(\"n! \") + a.count(\"n. \") + a.count(\"n? \")\n",
    "print(b)"
   ]
  },
  {
   "cell_type": "markdown",
   "id": "53a78d35",
   "metadata": {},
   "source": [
    "### Bài 2\n",
    "\n",
    "Nhập vào một chuỗi, kiểm tra xem chuỗi đó có ký tự hoa hoặc ký tự thường hay không."
   ]
  },
  {
   "cell_type": "code",
   "execution_count": 2,
   "id": "f5be8c39",
   "metadata": {},
   "outputs": [
    {
     "name": "stdout",
     "output_type": "stream",
     "text": [
      "nhập a:xin chào mọi người\n",
      "có ký tự in hoa False\n",
      "có ký tự thường True\n"
     ]
    }
   ],
   "source": [
    "a = input(\"nhập a:\")\n",
    "print(\"có ký tự in hoa\",not a.islower())\n",
    "print(\"có ký tự thường\",not a.isupper())"
   ]
  },
  {
   "cell_type": "markdown",
   "id": "64ca662e",
   "metadata": {},
   "source": [
    "### Bài 3\n",
    "\n",
    "Nhập vào một chuỗi, kiểm tra tính đối xứng của chuỗi đó"
   ]
  },
  {
   "cell_type": "code",
   "execution_count": 1,
   "id": "749f4136",
   "metadata": {},
   "outputs": [
    {
     "name": "stdout",
     "output_type": "stream",
     "text": [
      "nhập a:1234321\n",
      "Chuỗi đối xứng\n"
     ]
    }
   ],
   "source": [
    "a = input(\"nhập a:\")\n",
    "if a == a[::-1]:\n",
    "    print(\"Chuỗi đối xứng\")\n",
    "else:\n",
    "    print(\"Chuỗi không đối xứng\")"
   ]
  },
  {
   "cell_type": "code",
   "execution_count": 1,
   "id": "ab21683c",
   "metadata": {},
   "outputs": [
    {
     "name": "stdout",
     "output_type": "stream",
     "text": [
      "nhập a:123456\n",
      "a là chuỗi đối xứng, False\n"
     ]
    }
   ],
   "source": [
    "a = input(\"nhập a:\")\n",
    "\n",
    "print(\"a là chuỗi đối xứng,\", a == a[::-1])\n",
    "    "
   ]
  },
  {
   "cell_type": "code",
   "execution_count": 1,
   "id": "f0023732",
   "metadata": {},
   "outputs": [
    {
     "name": "stdout",
     "output_type": "stream",
     "text": [
      "nhập a1234321\n",
      "True\n"
     ]
    }
   ],
   "source": [
    "a = input(\"nhập a\")\n",
    "k = -1\n",
    "a_nguoc = \"\"\n",
    "for i in range(len(a)):\n",
    "    a_nguoc += a[k]\n",
    "    k -= 1\n",
    "print(a == a_nguoc)"
   ]
  },
  {
   "cell_type": "markdown",
   "id": "85dd8fef",
   "metadata": {},
   "source": [
    "### Bài 4\n",
    "\n",
    "Nhập vào một chuỗi, in ra các ký tự trong chuỗi và nếu là ký tự hoa thì in kèm True, ký tự thường thì in kèm False"
   ]
  },
  {
   "cell_type": "code",
   "execution_count": 6,
   "id": "0d099247",
   "metadata": {},
   "outputs": [
    {
     "name": "stdout",
     "output_type": "stream",
     "text": [
      "X\n",
      "True\n",
      "i\n",
      "False\n",
      "n\n",
      "False\n",
      " \n",
      "False\n",
      "c\n",
      "False\n",
      "H\n",
      "True\n",
      "à\n",
      "False\n",
      "o\n",
      "False\n"
     ]
    }
   ],
   "source": [
    "a = \"Xin cHào\"\n",
    "k = 0\n",
    "for i in range(len(a)):\n",
    "    print(a[k])  \n",
    "    print(a[k].isupper())\n",
    "    k +=1"
   ]
  },
  {
   "cell_type": "code",
   "execution_count": 10,
   "id": "1cbe9c62",
   "metadata": {},
   "outputs": [
    {
     "name": "stdout",
     "output_type": "stream",
     "text": [
      "X:True\n",
      "i:False\n",
      "n:False\n",
      " :False\n",
      "c:False\n",
      "H:True\n",
      "à:False\n",
      "o:False\n"
     ]
    }
   ],
   "source": [
    "a = input(\"nhập a:\")\n",
    "k = 0\n",
    "for i in range(len(a)):\n",
    "    print(a[k],end = \":\") \n",
    "    print(a[k].isupper())\n",
    "    k +=1"
   ]
  },
  {
   "cell_type": "markdown",
   "id": "1373dc74",
   "metadata": {},
   "source": [
    "### Bài 5\n",
    "\n",
    "Nhập vào một chuỗi, tìm các ký tự chỉ xuất hiện một lần trong chuỗi (nếu xuất hiện 1 lần in true, xuất hiện nhiều lần in false)\n",
    "\n",
    "Ví dụ:\n",
    "\n",
    "Nhập chuỗi: \"ABAbc\"\n",
    "\n",
    "In:\n",
    "\n",
    "A: False\n",
    "\n",
    "B: True\n",
    "\n",
    "A: False\n",
    "\n",
    "b: True\n",
    "\n",
    "c: True"
   ]
  },
  {
   "cell_type": "code",
   "execution_count": 2,
   "id": "a93bc53d",
   "metadata": {},
   "outputs": [
    {
     "name": "stdout",
     "output_type": "stream",
     "text": [
      "A:False\n",
      "B:True\n",
      "A:False\n",
      "b:True\n",
      "c:True\n"
     ]
    }
   ],
   "source": [
    "a = \"ABAbc\"\n",
    "k = 0\n",
    "for i in range(len(a)):\n",
    "    print(a[k],end = \":\") \n",
    "    print(a.count(a[k])==1)\n",
    "    k +=1"
   ]
  },
  {
   "cell_type": "markdown",
   "id": "69bebf4c",
   "metadata": {},
   "source": [
    "### Bài 6\n",
    "\n",
    "Nhập vào một chuỗi, kiểm tra trong chuỗi có con số hay không, nếu có in True, không có in False"
   ]
  },
  {
   "cell_type": "code",
   "execution_count": 1,
   "id": "1b4eab4f",
   "metadata": {},
   "outputs": [
    {
     "name": "stdout",
     "output_type": "stream",
     "text": [
      "True\n"
     ]
    }
   ],
   "source": [
    "a = input(\"nhập a\")\n",
    "print(not a.isalpha()) #nếu có ký tự đặc biệt thì bài giải sai"
   ]
  },
  {
   "cell_type": "code",
   "execution_count": 2,
   "id": "487fc407",
   "metadata": {},
   "outputs": [
    {
     "name": "stdout",
     "output_type": "stream",
     "text": [
      "Nhap chuoi:bhbj2bkbj\n",
      "True\n"
     ]
    }
   ],
   "source": [
    "a = input(\"Nhap chuoi:\")\n",
    "b = False\n",
    "k = 0\n",
    "for i in range (len(a)):\n",
    "    b = b or a[k].isnumeric()\n",
    "    k += 1\n",
    "print(b)"
   ]
  },
  {
   "cell_type": "markdown",
   "id": "1e51403c",
   "metadata": {},
   "source": [
    "### Bài 7\n",
    "\n",
    "Nhập vào một chuỗi, tách những con số có trong chuỗi ra rồi tính tổng của chúng\n",
    "\n",
    "In tổng lên màn hình"
   ]
  },
  {
   "cell_type": "code",
   "execution_count": 3,
   "id": "a34e349d",
   "metadata": {},
   "outputs": [
    {
     "name": "stdout",
     "output_type": "stream",
     "text": [
      "nhập vào 1 chuỗi:a123a2\n",
      "15\n"
     ]
    }
   ],
   "source": [
    "\n"
   ]
  },
  {
   "cell_type": "markdown",
   "id": "e951779d",
   "metadata": {},
   "source": [
    "### Bài 8\n",
    "\n",
    "Nhập vào một chuỗi, đảo ngược chuỗi đã nhập rồi in ra màn hình"
   ]
  },
  {
   "cell_type": "code",
   "execution_count": 1,
   "id": "9305f0f1",
   "metadata": {},
   "outputs": [
    {
     "name": "stdout",
     "output_type": "stream",
     "text": [
      "nhập a:123456\n",
      "654321\n"
     ]
    }
   ],
   "source": [
    "a = input(\"nhập a:\")\n",
    "b = a[::-1]\n",
    "print(b)"
   ]
  },
  {
   "cell_type": "markdown",
   "id": "04194b5c",
   "metadata": {},
   "source": [
    "### Bài 9\n",
    "\n",
    "Nhập vào một chuỗi, kiểm tra xem mỗi từ trong chuỗi có được viết hoa chữ cái đầu hay không, nếu tất cả đều được viết hoa thì in ra True, còn không thì in ra False\n",
    "\n",
    "Trong trường hợp là False, hãy viết hoa tất cả các chữ cái đầu của mỗi từ rồi in lên màn hình\n",
    "\n",
    "Cách làm thông thường:"
   ]
  },
  {
   "cell_type": "code",
   "execution_count": 4,
   "id": "9f947c7d",
   "metadata": {},
   "outputs": [
    {
     "name": "stdout",
     "output_type": "stream",
     "text": [
      "3\n"
     ]
    }
   ],
   "source": []
  },
  {
   "cell_type": "markdown",
   "id": "f43e32af",
   "metadata": {},
   "source": [
    "Cách sử dụng lệnh có sẵn:"
   ]
  },
  {
   "cell_type": "code",
   "execution_count": 5,
   "id": "714f1412",
   "metadata": {},
   "outputs": [
    {
     "name": "stdout",
     "output_type": "stream",
     "text": [
      "nhập a:xin chào các bạn\n",
      "Xin Chào Các Bạn\n"
     ]
    }
   ],
   "source": [
    "a = input('nhập a:') \n",
    "print(a.title())"
   ]
  }
 ],
 "metadata": {
  "kernelspec": {
   "display_name": "Python 3 (ipykernel)",
   "language": "python",
   "name": "python3"
  },
  "language_info": {
   "codemirror_mode": {
    "name": "ipython",
    "version": 3
   },
   "file_extension": ".py",
   "mimetype": "text/x-python",
   "name": "python",
   "nbconvert_exporter": "python",
   "pygments_lexer": "ipython3",
   "version": "3.10.4"
  }
 },
 "nbformat": 4,
 "nbformat_minor": 5
}
