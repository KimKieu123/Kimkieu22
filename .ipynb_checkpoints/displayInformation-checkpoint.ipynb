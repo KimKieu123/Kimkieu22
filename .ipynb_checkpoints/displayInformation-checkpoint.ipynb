{
 "cells": [
  {
   "cell_type": "code",
   "execution_count": 1,
   "id": "bc31069c",
   "metadata": {},
   "outputs": [
    {
     "name": "stdout",
     "output_type": "stream",
     "text": [
      "Nguyễn Kim Kiều 22/12/1995 nữ\n"
     ]
    }
   ],
   "source": [
    "ten = \"Nguyễn Kim Kiều\"\n",
    "ngaysinh = \"22/12/1995\"\n",
    "gioitinh = \"nữ\"\n",
    "print(ten, ngaysinh, gioitinh)"
   ]
  }
 ],
 "metadata": {
  "kernelspec": {
   "display_name": "Python 3 (ipykernel)",
   "language": "python",
   "name": "python3"
  },
  "language_info": {
   "codemirror_mode": {
    "name": "ipython",
    "version": 3
   },
   "file_extension": ".py",
   "mimetype": "text/x-python",
   "name": "python",
   "nbconvert_exporter": "python",
   "pygments_lexer": "ipython3",
   "version": "3.10.4"
  }
 },
 "nbformat": 4,
 "nbformat_minor": 5
}
