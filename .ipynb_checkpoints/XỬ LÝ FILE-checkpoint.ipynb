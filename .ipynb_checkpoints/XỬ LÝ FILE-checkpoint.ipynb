{
 "cells": [
  {
   "cell_type": "code",
   "execution_count": 1,
   "id": "4a4cb79a",
   "metadata": {},
   "outputs": [
    {
     "name": "stdout",
     "output_type": "stream",
     "text": [
      "<class '_io.TextIOWrapper'>\n"
     ]
    }
   ],
   "source": [
    "#FILE TXT\n",
    "# tạo file f = open()     r ====> read\n",
    "f = open('demo.txt','r') \n",
    "\n",
    "print(type(f)) #kiểm tra xem class thuộc loại gì và có thể check trên google <class '_io.TextIOWrapper'> các hàm của class \n",
    "# noidung =  f.read() #hàm này hiển thị"
   ]
  },
  {
   "cell_type": "code",
   "execution_count": 4,
   "id": "9298d5ea",
   "metadata": {},
   "outputs": [
    {
     "name": "stdout",
     "output_type": "stream",
     "text": [
      "hi\n",
      "hello\n",
      "8\n",
      "['hi\\nhello']\n"
     ]
    }
   ],
   "source": [
    "f = open('demo.txt','r',encoding = \"utf8\") #nếu muốn đọc file có tiếng Việt thì thêm utf8\n",
    "noidung =  f.read() #trả về chuỗi\n",
    "print(noidung)\n",
    "print(len(noidung)) #có 1 ký tự xuống hàng \\n\n",
    "L = [noidung]\n",
    "print(L)\n"
   ]
  },
  {
   "cell_type": "code",
   "execution_count": 1,
   "id": "567ced31",
   "metadata": {},
   "outputs": [
    {
     "name": "stdout",
     "output_type": "stream",
     "text": [
      "30\n"
     ]
    }
   ],
   "source": [
    "f = open('demo.txt','r',encoding = \"utf8\") #nếu muốn đọc file có tiếng Việt thì thêm utf8\n",
    "noidung =  f.read() #trả về chuỗi\n",
    "noidung = noidung.split()\n",
    "tong = 0\n",
    "for i in noidung:\n",
    "    tong += int(i)\n",
    "print(tong)\n",
    "\n",
    "\n"
   ]
  },
  {
   "cell_type": "code",
   "execution_count": 3,
   "id": "4f8e499a",
   "metadata": {},
   "outputs": [
    {
     "name": "stdout",
     "output_type": "stream",
     "text": [
      "['3\\n']\n",
      "5\n",
      "\n",
      "['7\\n', '15']\n"
     ]
    }
   ],
   "source": [
    "f = open('demo.txt','r',encoding = \"utf8\")\n",
    "noidung1 = f.readline() #lần 1 đọc dòng đầu tiên\n",
    "noidung2 = f.readline() #lần 2 đọc dòng thứ 2\n",
    "noidung3 = f.readlines() #đọc những dòng còn lại ở dạnglist\n",
    "print([noidung1])\n",
    "print(noidung2)\n",
    "print(noidung3)"
   ]
  },
  {
   "cell_type": "code",
   "execution_count": 5,
   "id": "bc4b11c7",
   "metadata": {},
   "outputs": [
    {
     "name": "stdout",
     "output_type": "stream",
     "text": [
      "['abc\\n', '1234\\n', 'abcd\\n', '123456']\n",
      "['abc', 'abcd']\n",
      "['1234', '123456']\n"
     ]
    }
   ],
   "source": [
    "f = open('user.txt','r',encoding = \"utf8\")\n",
    "data = f.readlines()\n",
    "print(data)\n",
    "#yêu cầu nhập user và pass\n",
    "L_user = []\n",
    "L_pass = []\n",
    "for i in range(len(data)):\n",
    "    if i % 2 == 0:\n",
    "        L_user.append(data[i].strip()) # loại bỏ ký tự \\n\n",
    "    else:\n",
    "        L_pass.append(data[i].strip()) # loại bỏ ký tự \\n\n",
    "        \n",
    "\n",
    "print(L_user)\n",
    "print(L_pass)\n",
    "\n",
    "acc = input(\"mời nhập acc\")\n",
    "passw = input(\"mời nhập pass\")\n",
    "\n",
    "if acc in L_user:\n",
    "    i = L_user.index(acc)\n",
    "    if passw == L_pass[i]:\n",
    "        print(\"đăng nhập thành công\")\n",
    "    else:\n",
    "        print(\"sai mật khẩu\")\n",
    "else:\n",
    "    print(\"tài khoản chưa đăng ký\")\n",
    "\n"
   ]
  }
 ],
 "metadata": {
  "kernelspec": {
   "display_name": "Python 3 (ipykernel)",
   "language": "python",
   "name": "python3"
  },
  "language_info": {
   "codemirror_mode": {
    "name": "ipython",
    "version": 3
   },
   "file_extension": ".py",
   "mimetype": "text/x-python",
   "name": "python",
   "nbconvert_exporter": "python",
   "pygments_lexer": "ipython3",
   "version": "3.10.4"
  }
 },
 "nbformat": 4,
 "nbformat_minor": 5
}
