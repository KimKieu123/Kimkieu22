{
 "cells": [
  {
   "cell_type": "markdown",
   "id": "028ffec3",
   "metadata": {},
   "source": [
    "# Thực hành hàm\n",
    "\n",
    "### Bài 1\n",
    "\n",
    "Viết hàm có dữ liệu đầu vào là 2 số a và b, số nào lớn hơn thì in bảng cửu chương của số đó"
   ]
  },
  {
   "cell_type": "code",
   "execution_count": 8,
   "id": "1974966b",
   "metadata": {},
   "outputs": [
    {
     "name": "stdout",
     "output_type": "stream",
     "text": [
      "nhập a: 5\n",
      "nhập b: 7\n",
      "7 * 1 = 7\n",
      "7 * 2 = 14\n",
      "7 * 3 = 21\n",
      "7 * 4 = 28\n",
      "7 * 5 = 35\n",
      "7 * 6 = 42\n",
      "7 * 7 = 49\n",
      "7 * 8 = 56\n",
      "7 * 9 = 63\n",
      "7 * 10 = 70\n"
     ]
    }
   ],
   "source": [
    "\n",
    "def cuuchuong(a,b):\n",
    "    if a < b:\n",
    "        a,b = b,a\n",
    "    for i in range(1,11):\n",
    "        print(a,\"*\",i,\"=\",a*i)\n",
    "a = int(input(\"nhập a: \"))\n",
    "b = int(input(\"nhập b: \"))       \n",
    "cuuchuong(a,b)"
   ]
  },
  {
   "cell_type": "markdown",
   "id": "9de8ffaa",
   "metadata": {},
   "source": [
    "### Bài 2\n",
    "\n",
    "Viết hàm `xoachuoi` có dữ liệu đầu vào là 2 chuỗi a và b, hãy tìm trong chuỗi a có chuỗi b hay không, nếu có hãy xóa toán bộ chuỗi b trong a.\n",
    "\n",
    "Sau đó trả về chuỗi a mới\n",
    "\n",
    "Ví dụ:\n",
    "\n",
    "chuoi1 = \"xin chào các bạn, các bạn có khỏe không?\"\n",
    "\n",
    "chuoi2 = \"các bạn\"\n",
    "\n",
    "chuoi3 = xoachuoi(chuoi1,chuoi2)\n",
    "\n",
    "print(chuoi3)\n",
    "\n",
    "Kết quả in ra là:\n",
    "xin chào ,  có khỏe không"
   ]
  },
  {
   "cell_type": "code",
   "execution_count": 11,
   "id": "05de1584",
   "metadata": {},
   "outputs": [
    {
     "name": "stdout",
     "output_type": "stream",
     "text": [
      "nhập a: xin chào các bạn, các bạn có khỏe không\n",
      "nhập b: các bạn\n"
     ]
    },
    {
     "data": {
      "text/plain": [
       "'xin chào ,  có khỏe không'"
      ]
     },
     "execution_count": 11,
     "metadata": {},
     "output_type": "execute_result"
    }
   ],
   "source": [
    "\n",
    "\n",
    "def xoachuoi(a,b):\n",
    "    k = \"\"\n",
    "    for i in range(int(len(a))):\n",
    "        if a.find(b) != -1:\n",
    "            k += a[0:(a.find(b))]\n",
    "            a = a[(a.find(b) + int(len(b))):int(len(a))]\n",
    "    return k + a\n",
    "    \n",
    "a = input(\"nhập a: \")\n",
    "b = input(\"nhập b: \")   \n",
    "xoachuoi(a,b)\n"
   ]
  },
  {
   "cell_type": "markdown",
   "id": "d626394e",
   "metadata": {},
   "source": [
    "### Bài 3\n",
    "\n",
    "Viết hàm `kiemtramatkhau` với dữ liệu đầu vào là 1 chuỗi có công dụng như sau:\n",
    "\n",
    "Kiểm tra xem chuỗi đầu vào có phải là mật khẩu mạnh hay không, nếu có trả về True, nếu không trả về False\n",
    "\n",
    "Mật khẩu mạnh là mật khẩu phải có ít nhất 1 chữ hoa, 1 chữ thường, 1 số và 1 ký tự đặc biệt"
   ]
  },
  {
   "cell_type": "code",
   "execution_count": 8,
   "id": "57d962fb",
   "metadata": {},
   "outputs": [
    {
     "name": "stdout",
     "output_type": "stream",
     "text": [
      "nhập a: nkfngH1?\n"
     ]
    },
    {
     "data": {
      "text/plain": [
       "True"
      ]
     },
     "execution_count": 8,
     "metadata": {},
     "output_type": "execute_result"
    }
   ],
   "source": [
    "def kiemtra(a):\n",
    "    if a.islower() or a.isupper() or a.isdigit() or a.isalpha():\n",
    "        return False\n",
    "    return True\n",
    "a = input(\"nhập a: \")\n",
    "kiemtra(a)"
   ]
  },
  {
   "cell_type": "markdown",
   "id": "1572568f",
   "metadata": {},
   "source": [
    "### Bài 4\n",
    "\n",
    "Viết hàm có 5 dữ liệu đầu vào là 5 số nguyên, tìm giá trị lớn nhì trong 5 số đó"
   ]
  },
  {
   "cell_type": "code",
   "execution_count": 4,
   "id": "fd100520",
   "metadata": {},
   "outputs": [
    {
     "name": "stdout",
     "output_type": "stream",
     "text": [
      "nhập số thứ 1 10\n",
      "nhập số thứ 2 20\n",
      "nhập số thứ 3 40\n",
      "nhập số thứ 4 50\n",
      "nhập số thứ 5 30\n",
      "40\n"
     ]
    }
   ],
   "source": [
    "def sosanh(st1,st2,st3,st4,st5):\n",
    "    \n",
    "    khoangtrang = ''\n",
    "    a = st1+' '+st2+' '+st3+' '+st4+' '+st5+' '  \n",
    "    if int(st1) > int(st2):\n",
    "        max,max2 = int(st1),int(st2)\n",
    "    else:\n",
    "        max,max2 = int(st2),int(st1)\n",
    "    for i in range(a.count(' ')):\n",
    "        khoangtrang = a.find(' ')\n",
    "        c = a[0:khoangtrang]\n",
    "        a = a[(khoangtrang+1):len(a)]\n",
    "        if int(c) > max2:\n",
    "            if int(c) > max:\n",
    "                max2, max = max, int(c)\n",
    "            else:\n",
    "                max2 = int(c)\n",
    "    print(max2)      \n",
    "        \n",
    "st1 = input(\"nhập số thứ 1 \")  \n",
    "st2 = input(\"nhập số thứ 2 \")  \n",
    "st3 = input(\"nhập số thứ 3 \")  \n",
    "st4 = input(\"nhập số thứ 4 \")   \n",
    "st5 = input(\"nhập số thứ 5 \")\n",
    "sosanh(st1,st2,st3,st4,st5)"
   ]
  },
  {
   "cell_type": "markdown",
   "id": "974d7da1",
   "metadata": {},
   "source": [
    "### Bài 5\n",
    "\n",
    "Nhập vào 2 cặp tọa độ tâm đường tròn và 2 bán kính R\n",
    "\n",
    "Hãy vẽ 2 hình tròn theo tọa độ và bán kính trên (tọa độ thứ nhất và bán kính thứ nhất là hình tròn thứ nhất, tọa độ thứ 2 với bán kính thứ 2 là hình tròn thứ hai)\n",
    "\n",
    "Viết hàm kiểm tra xem 2 hình tròn trên cắt nhau bao nhiêu điểm"
   ]
  },
  {
   "cell_type": "code",
   "execution_count": 1,
   "id": "f7722021",
   "metadata": {},
   "outputs": [
    {
     "name": "stdout",
     "output_type": "stream",
     "text": [
      "nhập tọa độ x1 20\n",
      "nhập tọa độ y1 1\n",
      "nhập tọa độ x2 30\n",
      "nhập tọa độ y2 40\n",
      "nhập tọa độ r1 100\n",
      "nhập tọa độ r2 50\n",
      "50\n",
      "có 1 điểm chung\n"
     ]
    }
   ],
   "source": [
    "import turtle\n",
    "\n",
    "t = turtle.Turtle()\n",
    "\n",
    "def hinhtron():\n",
    "    \n",
    "    t.penup()\n",
    "    t.goto(x1,y1)\n",
    "    t.pendown()\n",
    "    t.circle(r1)\n",
    "    t.penup()\n",
    "    t.goto(x2,y2)\n",
    "    t.pendown()\n",
    "    t.circle(r2)\n",
    "    \n",
    "    d = 0\n",
    "    if r1>r2:\n",
    "        R,r = r1,r2\n",
    "    else:\n",
    "        R,r = r2,r1\n",
    "    d = R - r\n",
    "    print(d)\n",
    "    if (R-r) < d < (R+r):\n",
    "        print(\"có 2 điểm chung\")\n",
    "    elif ((d == (R-r)) or (d == (R+r))):\n",
    "        print(\"có 1 điểm chung\")\n",
    "    else:\n",
    "        print(\"không có điểm chung\")\n",
    "\n",
    "x1 = int(input(\"nhập tọa độ x1 \"))\n",
    "y1 = int(input(\"nhập tọa độ y1 \"))\n",
    "x2 = int(input(\"nhập tọa độ x2 \"))\n",
    "y2 = int(input(\"nhập tọa độ y2 \"))\n",
    "r1 = int(input(\"nhập tọa độ r1 \"))\n",
    "r2 = int(input(\"nhập tọa độ r2 \"))\n",
    "\n",
    "hinhtron()"
   ]
  },
  {
   "cell_type": "markdown",
   "id": "a2157de8",
   "metadata": {},
   "source": [
    "### Bài 6\n",
    "\n",
    "Nhập vào 2 tọa độ là 2 đỉnh của một hình chữ nhật\n",
    "\n",
    "Sau đó\n",
    "\n",
    "Nhập vào tọa độ tâm đường tròn và bán kính R\n",
    "\n",
    "Hãy vẽ hình hình chữ nhật và đường tròn trên\n",
    "\n",
    "Viết hàm kiểm tra xem đường tròn trên và hình chữ nhật cắt nhau tại bao nhiêu điểm"
   ]
  },
  {
   "cell_type": "code",
   "execution_count": null,
   "id": "e0d7b1a2",
   "metadata": {},
   "outputs": [],
   "source": []
  },
  {
   "cell_type": "markdown",
   "id": "d1491579",
   "metadata": {},
   "source": [
    "### Bài 7\n",
    "\n",
    "Viết hàm kiểm tra số nguyên tố\n",
    "\n",
    "Viết hàm kiểm tra số hoàn hảo\n",
    "\n",
    "Viết hàm kiểm tra số chính phương\n",
    "\n",
    "Viết hàm kiểm tra số Armstrong\n",
    "\n",
    "Nhập vào một chuỗi, hãy lọc và tìm ra những số ở trong chuỗi (2 chữ số liền nhau là một chuỗi)\n",
    "\n",
    "Ví dụ chuỗi: \"AB25SDc5DSjjh52\"\n",
    "\n",
    "Trong chuỗi này ta có 3 số: 25, 5 và 52\n",
    "\n",
    "Sau khi lọc số, dùng các hàm trên để kiểm tra và thực hiện như sau:\n",
    "\n",
    "Cho biến S\n",
    "\n",
    "- Nếu số đó là số nguyên tố, ta thực hiện S += số đó\n",
    "- Nếu số đó là số hoàn hảo, ta thực hiện S -= số đó\n",
    "- Nếu số đó là số chính phương, ta thực hiện S /= số đó\n",
    "- Nếu đó là số Armstrong ta cho S = 0\n",
    "\n",
    "Hãy tính và in S"
   ]
  },
  {
   "cell_type": "code",
   "execution_count": null,
   "id": "0b699e33",
   "metadata": {},
   "outputs": [],
   "source": []
  }
 ],
 "metadata": {
  "kernelspec": {
   "display_name": "Python 3 (ipykernel)",
   "language": "python",
   "name": "python3"
  },
  "language_info": {
   "codemirror_mode": {
    "name": "ipython",
    "version": 3
   },
   "file_extension": ".py",
   "mimetype": "text/x-python",
   "name": "python",
   "nbconvert_exporter": "python",
   "pygments_lexer": "ipython3",
   "version": "3.10.4"
  }
 },
 "nbformat": 4,
 "nbformat_minor": 5
}
