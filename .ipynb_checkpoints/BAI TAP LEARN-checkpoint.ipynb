{
 "cells": [
  {
   "cell_type": "code",
   "execution_count": 1,
   "id": "90146a3c",
   "metadata": {},
   "outputs": [
    {
     "name": "stdout",
     "output_type": "stream",
     "text": [
      "nhập số tiền USD: 5\n",
      "nhập tỷ giá USD23000\n",
      "số tiền VND là:  115000.0\n"
     ]
    }
   ],
   "source": [
    "#BÀI TẬP CHUYỂN ĐỔI TIỀN TỆ.\n",
    "\n",
    "a = float(input(\"nhập số tiền USD: \"))\n",
    "b = float(input(\"nhập tỷ giá USD\"))\n",
    "print(\"số tiền VND là: \",a*b)"
   ]
  },
  {
   "cell_type": "code",
   "execution_count": null,
   "id": "681d8ef1",
   "metadata": {},
   "outputs": [],
   "source": [
    "import turtle\n",
    "import random\n",
    " \n",
    "number = random.uniform(0, 3)\n",
    "intNumber = int(number)\n",
    " \n",
    "wn = turtle.Screen()\n",
    "wn.bgcolor(\"black\")\n",
    "wn.title(\"Circle\")\n",
    " \n",
    "ball = turtle.Turtle()\n",
    "ball.shape('circle')\n",
    " \n",
    "if intNumber < 1:\n",
    "    ball.color('green')\n",
    "elif intNumber < 2:\n",
    "    ball.color('yellow')\n",
    "elif intNumber < 3:\n",
    "    ball.color('red')\n",
    "turtle.done()"
   ]
  },
  {
   "cell_type": "code",
   "execution_count": 2,
   "id": "5847c065",
   "metadata": {},
   "outputs": [
    {
     "name": "stdout",
     "output_type": "stream",
     "text": [
      "nhập vào số: 2\n",
      "a là số chẵn\n"
     ]
    }
   ],
   "source": [
    "#BÀI TẬP TOÁN TỬ BA NGÔI\n",
    "\n",
    "a = float(input(\"nhập vào số: \"))\n",
    "if a%2 == 0:\n",
    "    print(\"a là số chẵn\")\n",
    "else:\n",
    "    print(\"a là số lẻ\")"
   ]
  },
  {
   "cell_type": "code",
   "execution_count": 7,
   "id": "8902d7f4",
   "metadata": {},
   "outputs": [
    {
     "name": "stdout",
     "output_type": "stream",
     "text": [
      "nhập vào số: 3\n",
      "a là số lẻ\n"
     ]
    }
   ],
   "source": [
    "#[Bài tập] Kiểm tra số chẵn/lẻ\n",
    "\n",
    "a = float(input(\"nhập vào số: \"))\n",
    "if a%2 == 0:\n",
    "    print(\"a là số chẵn\")\n",
    "elif a%2 == 1:\n",
    "    print(\"a là số lẻ\")\n",
    "else:\n",
    "    print(\"a không phải là số tự nhiên\")"
   ]
  }
 ],
 "metadata": {
  "kernelspec": {
   "display_name": "Python 3 (ipykernel)",
   "language": "python",
   "name": "python3"
  },
  "language_info": {
   "codemirror_mode": {
    "name": "ipython",
    "version": 3
   },
   "file_extension": ".py",
   "mimetype": "text/x-python",
   "name": "python",
   "nbconvert_exporter": "python",
   "pygments_lexer": "ipython3",
   "version": "3.10.4"
  }
 },
 "nbformat": 4,
 "nbformat_minor": 5
}
