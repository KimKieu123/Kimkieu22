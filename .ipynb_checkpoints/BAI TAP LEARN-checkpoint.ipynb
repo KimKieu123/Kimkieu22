{
 "cells": [
  {
   "cell_type": "code",
   "execution_count": 1,
   "id": "85b1c224",
   "metadata": {},
   "outputs": [
    {
     "name": "stdout",
     "output_type": "stream",
     "text": [
      "nhập số tiền USD: 5\n",
      "nhập tỷ giá USD23000\n",
      "số tiền VND là:  115000.0\n"
     ]
    }
   ],
   "source": [
    "#BÀI TẬP CHUYỂN ĐỔI TIỀN TỆ.\n",
    "\n",
    "a = float(input(\"nhập số tiền USD: \"))\n",
    "b = float(input(\"nhập tỷ giá USD\"))\n",
    "print(\"số tiền VND là: \",a*b)"
   ]
  },
  {
   "cell_type": "code",
   "execution_count": null,
   "id": "1da6f84d",
   "metadata": {},
   "outputs": [],
   "source": [
    "import turtle\n",
    "import random\n",
    " \n",
    "number = random.uniform(0, 3)\n",
    "intNumber = int(number)\n",
    " \n",
    "wn = turtle.Screen()\n",
    "wn.bgcolor(\"black\")\n",
    "wn.title(\"Circle\")\n",
    " \n",
    "ball = turtle.Turtle()\n",
    "ball.shape('circle')\n",
    " \n",
    "if intNumber < 1:\n",
    "    ball.color('green')\n",
    "elif intNumber < 2:\n",
    "    ball.color('yellow')\n",
    "elif intNumber < 3:\n",
    "    ball.color('red')\n",
    "turtle.done()"
   ]
  },
  {
   "cell_type": "code",
   "execution_count": 2,
   "id": "dd971c96",
   "metadata": {},
   "outputs": [
    {
     "name": "stdout",
     "output_type": "stream",
     "text": [
      "nhập vào số: 2\n",
      "a là số chẵn\n"
     ]
    }
   ],
   "source": [
    "#BÀI TẬP TOÁN TỬ BA NGÔI\n",
    "\n",
    "a = float(input(\"nhập vào số: \"))\n",
    "if a%2 == 0:\n",
    "    print(\"a là số chẵn\")\n",
    "else:\n",
    "    print(\"a là số lẻ\")"
   ]
  },
  {
   "cell_type": "code",
   "execution_count": 7,
   "id": "6eae03b4",
   "metadata": {},
   "outputs": [
    {
     "name": "stdout",
     "output_type": "stream",
     "text": [
      "nhập vào số: 3\n",
      "a là số lẻ\n"
     ]
    }
   ],
   "source": [
    "#[Bài tập] Kiểm tra số chẵn/lẻ\n",
    "\n",
    "a = float(input(\"nhập vào số: \"))\n",
    "if a%2 == 0:\n",
    "    print(\"a là số chẵn\")\n",
    "elif a%2 == 1:\n",
    "    print(\"a là số lẻ\")\n",
    "else:\n",
    "    print(\"a không phải là số tự nhiên\")"
   ]
  },
  {
   "cell_type": "code",
   "execution_count": 9,
   "id": "decad369",
   "metadata": {},
   "outputs": [
    {
     "name": "stdout",
     "output_type": "stream",
     "text": [
      "nhập từ 1 đến 7: 2\n",
      "thứ 3\n"
     ]
    }
   ],
   "source": [
    "#[Bài tập] Hiển thị ngày trong tuần\n",
    "\n",
    "a = int(input(\"nhập từ 1 đến 7: \"))\n",
    "if a == 1:\n",
    "    print(\"thứ 2\")\n",
    "elif a == 2:\n",
    "    print(\"thứ 3\")\n",
    "elif a == 3:\n",
    "    print(\"thứ 4\")\n",
    "elif a == 4:\n",
    "    print(\"thứ 5\")\n",
    "elif a == 5:\n",
    "    print(\"thứ 6\")\n",
    "elif a == 6:\n",
    "    print(\"thứ 7\")\n",
    "elif a == 7:\n",
    "    print(\"chủ nhật\")\n",
    "else:\n",
    "    print(\"bạn đã nhập sai\")\n"
   ]
  },
  {
   "cell_type": "code",
   "execution_count": 13,
   "id": "17680289",
   "metadata": {},
   "outputs": [
    {
     "name": "stdout",
     "output_type": "stream",
     "text": [
      "nhập vào số tiền200\n",
      "số tiền thanh toán là  150\n"
     ]
    }
   ],
   "source": [
    "#[Bài tập] Hiển thị thông tin đơn hàng\n",
    "\n",
    "a = int(input(\"nhập vào số tiền: \"))\n",
    "\n",
    "if a < 75:\n",
    "    print(\"số tiền thanh toán là \",a)\n",
    "elif a < 100:\n",
    "    print(\"số tiền thanh toán là \",a-15)\n",
    "elif a < 150:\n",
    "    print(\"số tiền thanh toán là \",a-25)\n",
    "else:\n",
    "    print(\"số tiền thanh toán là \",a-50)"
   ]
  },
  {
   "cell_type": "code",
   "execution_count": null,
   "id": "2c68868d",
   "metadata": {},
   "outputs": [],
   "source": [
    "#[Bài tập] Tính chỉ số cân nặng của cơ thể (Python)\n",
    "w = float(input(\"nhập cân nặng kg\"))\n",
    "h = float(input('nhập chiều cao cm'))\n",
    "BMI = (w/((h/100)**2))\n",
    "if BMI > 40:\n",
    "    print(\"béo phì cấp độ III\")\n",
    "elif BMI >= 35:\n",
    "    print(\"béo phì cấp độ II\")\n",
    "elif BMI >= 30:\n",
    "    print(\"béo phì cấp độ I\")\n",
    "elif BMI >= 25:\n",
    "    print(\"thừa cân\")\n",
    "elif BMI >= 18.5:\n",
    "    print(\"bình thường\")\n",
    "elif BMI >= 17:\n",
    "    print(\"gày cấp độ I\")\n",
    "elif BMI >= 16:\n",
    "    print(\"gày cấp độ II\")\n",
    "else:\n",
    "    print(\"gày cấp độ III\")\n",
    "print(BMI)"
   ]
  }
 ],
 "metadata": {
  "kernelspec": {
   "display_name": "Python 3 (ipykernel)",
   "language": "python",
   "name": "python3"
  },
  "language_info": {
   "codemirror_mode": {
    "name": "ipython",
    "version": 3
   },
   "file_extension": ".py",
   "mimetype": "text/x-python",
   "name": "python",
   "nbconvert_exporter": "python",
   "pygments_lexer": "ipython3",
   "version": "3.10.4"
  }
 },
 "nbformat": 4,
 "nbformat_minor": 5
}
