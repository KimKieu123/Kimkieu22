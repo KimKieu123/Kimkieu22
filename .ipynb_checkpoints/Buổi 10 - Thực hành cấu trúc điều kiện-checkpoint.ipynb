{
 "cells": [
  {
   "cell_type": "markdown",
   "id": "dcdb816e",
   "metadata": {},
   "source": [
    "# Thực hành cấu trúc điều khiển\n",
    "\n",
    "### Bài 1\n",
    "\n",
    "Cho phương trình bậc 2: ax^2 + bx + c = 0\n",
    "\n",
    "Nhập a, b, c\n",
    "\n",
    "Giải và biện luận phương trình trên"
   ]
  },
  {
   "cell_type": "code",
   "execution_count": 5,
   "id": "b5a5c325",
   "metadata": {},
   "outputs": [
    {
     "name": "stdout",
     "output_type": "stream",
     "text": [
      "nhập a:1\n",
      "nhập b:-6\n",
      "nhập b:8\n",
      "2 nghiệm của phương trình là 4.0 2.0\n"
     ]
    }
   ],
   "source": [
    "a = float(input(\"nhập a:\"))\n",
    "b = float(input(\"nhập b:\"))\n",
    "c = float(input(\"nhập b:\"))\n",
    "d = b**2 - 4*a*c\n",
    "if a == 0:\n",
    "    if b == 0:\n",
    "        if c == 0:\n",
    "            print(\"phương trình vô vố nghiệm\")\n",
    "        else:\n",
    "            print(\"phương trình vô nghiệm\")\n",
    "    else:\n",
    "        print(\"phương trình chỉ có 1 nghiệm\", -c/b)\n",
    "if d<0:\n",
    "    print(\"phương trình vô nghiệm\")\n",
    "elif d == 0:\n",
    "    x = (-b)/(2*a)\n",
    "    print(\"nghiệm của phương trình là \",x)\n",
    "else:\n",
    "    x1 = (-b + d**0.5)/(2*a)\n",
    "    x2 = (-b - d**0.5)/(2*a)\n",
    "    print(\"2 nghiệm của phương trình là\",x1,x2)"
   ]
  },
  {
   "cell_type": "markdown",
   "id": "6f7d329d",
   "metadata": {},
   "source": [
    "### Bài 2\n",
    "\n",
    "Hãy nhập vào một số\n",
    "\n",
    "Xác định coi đó có phải là số nguyên tố hay không"
   ]
  },
  {
   "cell_type": "code",
   "execution_count": 51,
   "id": "049c85f5",
   "metadata": {},
   "outputs": [
    {
     "name": "stdout",
     "output_type": "stream",
     "text": [
      "nhập a:5\n",
      "a là số nguyên tố\n",
      "0\n"
     ]
    }
   ],
   "source": [
    "a = int(input(\"nhập a:\"))\n",
    "k = 2\n",
    "c = 0\n",
    "d = 0\n",
    "if a == 2:\n",
    "    print(\"a là số nguyên tố\")\n",
    "elif a>=3:\n",
    "    for i in range(a-2):\n",
    "        c = a%k\n",
    "        k +=1\n",
    "        if c == 0:\n",
    "            d += 1          \n",
    "    if d == 0:\n",
    "        print(\"a là số nguyên tố\")\n",
    "    else:\n",
    "        print(\"a không là số nguyên tố\")\n",
    "else:\n",
    "    print(\"a không phải là số nguyên tố\")"
   ]
  },
  {
   "cell_type": "code",
   "execution_count": null,
   "id": "201a0d3b",
   "metadata": {},
   "outputs": [],
   "source": []
  },
  {
   "cell_type": "markdown",
   "id": "75f7717b",
   "metadata": {},
   "source": [
    "### Bài 3\n",
    "\n",
    "Hãy nhập vào số n\n",
    "\n",
    "Hãy đếm số chữ số 0 tận cùng của n giai thừa\n",
    "\n",
    "(Bài này nâng cao, mọi người có thể bỏ qua)"
   ]
  },
  {
   "cell_type": "code",
   "execution_count": null,
   "id": "789e0e76",
   "metadata": {},
   "outputs": [],
   "source": []
  },
  {
   "cell_type": "markdown",
   "id": "29cd6c81",
   "metadata": {},
   "source": [
    "### Bài 4\n",
    "\n",
    "In ra tất cả các số chia hết cho 3 nhỏ hơn 100"
   ]
  },
  {
   "cell_type": "code",
   "execution_count": null,
   "id": "0b848981",
   "metadata": {},
   "outputs": [],
   "source": [
    "a = 1\n",
    "for i in range(99):\n",
    "    if a%3 == 0:\n",
    "        print(a)\n",
    "    a+=1\n",
    "    "
   ]
  },
  {
   "cell_type": "markdown",
   "id": "04dbf99b",
   "metadata": {},
   "source": [
    "### Bài 5\n",
    "\n",
    "In ra tất cả các số lẻ nhưng không chia hết cho 3 nhỏ hơn 100"
   ]
  },
  {
   "cell_type": "code",
   "execution_count": null,
   "id": "769eb439",
   "metadata": {},
   "outputs": [],
   "source": [
    "k = 1\n",
    "in range(50):\n",
    "    k += 2\n",
    "    if k%2 == 1 and k%3 !=0:\n",
    "        print(k)"
   ]
  },
  {
   "cell_type": "markdown",
   "id": "26dd47fb",
   "metadata": {},
   "source": [
    "### Bài 5\n",
    "\n",
    "Tại một cửa hàng nọ có menu như sau:\n",
    "\n",
    "1. Gà rán giá 35k\n",
    "2. Hamburger giá 50k\n",
    "3. Pesi giá 10k\n",
    "\n",
    "Nhập số lượng món hàng cần mua\n",
    "\n",
    "Tính và in ra tổng giá tiền (hiển thị có dấu chấm mỗi 3 chữ số để người dùng để quan sát)\n",
    "\n",
    "Nếu giá trị đơn hàng trên 2 triệu, giảm 10% cho khách, trên 4 triệu, giảm 15%\n",
    "\n",
    "Tính và in ra tổng giá tiền được giảm (hiển thị có dấu chấm mỗi 3 chữ số để người dùng để quan sát)\n",
    "\n",
    "Tính và in ra tổng giá tiền khách cần trả (hiển thị có dấu chấm mỗi 3 chữ số để người dùng để quan sát)\n",
    "\n",
    "In ra dòng chữ \"Cảm ơn quý khách đã mua hàng\""
   ]
  },
  {
   "cell_type": "code",
   "execution_count": 12,
   "id": "8509df1e",
   "metadata": {},
   "outputs": [
    {
     "name": "stdout",
     "output_type": "stream",
     "text": [
      "Nhập số lượng gà rán:1\n",
      "Nhập số lượng hamburger:2\n",
      "Nhập số lượng pepsi:3\n",
      "Tổng giá tiền 165000\n",
      "Cảm ơn quý khách đã mua hàng\n"
     ]
    }
   ],
   "source": [
    "a = int(input('Nhập số lượng gà rán:'))\n",
    "b = int(input('Nhập số lượng hamburger:'))\n",
    "c = int(input('Nhập số lượng pepsi:'))\n",
    "t = a*35000 + b*50000 + c*10000\n",
    "if t > 2*10**6:\n",
    "    print('Tổng tiền được giảm',t*0.1)\n",
    "    t = t*0.9\n",
    "elif t > 4*10**6:\n",
    "    print('Tổng tiền được giảm',t*0.15)\n",
    "    t = t*0.85\n",
    "print('Tổng giá tiền',t)\n",
    "print('Cảm ơn quý khách đã mua hàng')"
   ]
  },
  {
   "cell_type": "markdown",
   "id": "ab10a1ce",
   "metadata": {},
   "source": [
    "### Bài 6\n",
    "\n",
    "Nhập vào chiều cao (cm) và cân nặng (kg), tính số BMI và xét rồi xin kết quả theo dữ liệu sau:\n",
    "\n",
    "- BMI < 16: Gầy cấp độ III\n",
    "- 16 <= BMI < 17:  Gầy cấp độ II\n",
    "- 17<= BMI < 18.5: Gầy cấp độ I\n",
    "- 18.5 <= BMI < 25: Bình thường\n",
    "- 25 <= BMI < 30: Thừa cân\n",
    "- 30 <= BMI < 35 : Béo phì cấp độ I\n",
    "- 35 <= BMI < 40: Béo phì cấp độ II\n",
    "- BMI > 40: Béo phì cấp độ III"
   ]
  },
  {
   "cell_type": "code",
   "execution_count": 7,
   "id": "1058f441",
   "metadata": {},
   "outputs": [
    {
     "name": "stdout",
     "output_type": "stream",
     "text": [
      "nhập cân nặng kg68\n",
      "nhập chiều cao cm154\n",
      "thừa cân\n",
      "28.67262607522348\n"
     ]
    }
   ],
   "source": [
    "w = float(input(\"nhập cân nặng kg\"))\n",
    "h = float(input('nhập chiều cao cm'))\n",
    "BMI = (w/((h/100)**2))\n",
    "if BMI > 40:\n",
    "    print(\"béo phì cấp độ III\")\n",
    "elif BMI >= 35:\n",
    "    print(\"béo phì cấp độ II\")\n",
    "elif BMI >= 30:\n",
    "    print(\"béo phì cấp độ I\")\n",
    "elif BMI >= 25:\n",
    "    print(\"thừa cân\")\n",
    "elif BMI >= 18.5:\n",
    "    print(\"bình thường\")\n",
    "elif BMI >= 17:\n",
    "    print(\"gày cấp độ I\")\n",
    "elif BMI >= 16:\n",
    "    print(\"gày cấp độ II\")\n",
    "else:\n",
    "    print(\"gày cấp độ III\")\n",
    "print(BMI)\n",
    "    "
   ]
  },
  {
   "cell_type": "markdown",
   "id": "f7620342",
   "metadata": {},
   "source": [
    "### Bài 7\n",
    "\n",
    "Nhập ngày, tháng, năm. Hãy tính và in ra màn hình kể từ đầu năm đến ngày vừa nhập là bao nhiêu ngày."
   ]
  },
  {
   "cell_type": "code",
   "execution_count": 11,
   "id": "4be5f681",
   "metadata": {},
   "outputs": [
    {
     "name": "stdout",
     "output_type": "stream",
     "text": [
      "nhập ngày 20\n",
      "nhập tháng 1\n",
      "nhập năm 2020\n",
      "0\n",
      "0\n",
      "20\n"
     ]
    }
   ],
   "source": [
    "d = int(input(\"nhập ngày \"))\n",
    "m = int(input(\"nhập tháng \"))\n",
    "y = int(input(\"nhập năm \"))\n",
    "m30 = 0\n",
    "m31 = 0\n",
    "m2 = 0\n",
    "tong_ngay = 0\n",
    "if m == 1:\n",
    "    tong_ngay = d\n",
    "else:\n",
    "    if m == 2:\n",
    "        tong_ngay = 31 + d\n",
    "    else:\n",
    "        if m > 2 and (y%400 == 0 or (y%4 == 0 and y%100 != 0)):\n",
    "            m2 = 29\n",
    "        else:\n",
    "            m2 = 28    \n",
    "        for i in range(m-1):\n",
    "            m = str(m)\n",
    "            m31 += m.count(\"1\")+m.count(\"3\")+m.count(\"5\")+m.count(\"7\")+m.count(\"8\")+m.count(\"12\")+m.count(\"10\")\n",
    "            m = int(m)\n",
    "            m -= 1\n",
    "        for i in range(m-1):\n",
    "            m = str(m)\n",
    "            m30 += m.count(\"4\")+m.count(\"6\")+m.count(\"9\")+m.count(\"11\")\n",
    "            m = int(m)\n",
    "            m -= 1\n",
    "\n",
    "        tong_ngay = d + int(m31)*31 + int(m30)*30 + m2\n",
    "print(tong_ngay)"
   ]
  }
 ],
 "metadata": {
  "kernelspec": {
   "display_name": "Python 3 (ipykernel)",
   "language": "python",
   "name": "python3"
  },
  "language_info": {
   "codemirror_mode": {
    "name": "ipython",
    "version": 3
   },
   "file_extension": ".py",
   "mimetype": "text/x-python",
   "name": "python",
   "nbconvert_exporter": "python",
   "pygments_lexer": "ipython3",
   "version": "3.10.4"
  }
 },
 "nbformat": 4,
 "nbformat_minor": 5
}
